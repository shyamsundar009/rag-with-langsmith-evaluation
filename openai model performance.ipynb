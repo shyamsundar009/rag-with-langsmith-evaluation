{
 "cells": [
  {
   "cell_type": "code",
   "execution_count": 1,
   "metadata": {},
   "outputs": [],
   "source": [
    "from rag import Custom_Rag\n"
   ]
  },
  {
   "cell_type": "markdown",
   "metadata": {},
   "source": [
    "## EVALUATION METRICS - LLM JUDGE"
   ]
  },
  {
   "cell_type": "markdown",
   "metadata": {},
   "source": [
    "![image](rag_eval_overview-c0c3c2ac03f44b2b67c58ab67f32d82a.png)"
   ]
  },
  {
   "cell_type": "code",
   "execution_count": null,
   "metadata": {},
   "outputs": [],
   "source": []
  },
  {
   "cell_type": "code",
   "execution_count": 2,
   "metadata": {},
   "outputs": [],
   "source": [
    "from langchain import hub\n",
    "from langchain_openai import ChatOpenAI\n",
    "\n",
    "# Grade prompt\n",
    "grade_prompt_answer_accuracy = prompt = hub.pull(\"langchain-ai/rag-answer-vs-reference\")\n",
    "\n",
    "def answer_evaluator(run, example) -> dict:\n",
    "    \"\"\"\n",
    "    A simple evaluator for RAG answer accuracy\n",
    "    \"\"\"\n",
    "\n",
    "    # Get question, ground truth answer, RAG chain answer\n",
    "    input_question = example.inputs.get(\"prompt\")\n",
    "    reference = example.outputs.get(\"answer\")\n",
    "    prediction = run.outputs.get(\"response\")\n",
    "\n",
    "    # LLM grader\n",
    "    llm = ChatOpenAI(model=\"gpt-4-turbo\", temperature=0)\n",
    "\n",
    "    # Structured prompt\n",
    "    answer_grader = grade_prompt_answer_accuracy | llm\n",
    "\n",
    "    # Run evaluator\n",
    "    score = answer_grader.invoke({\"question\": input_question,\n",
    "                                  \"correct_answer\": reference,\n",
    "                                  \"student_answer\": prediction})\n",
    "    score = score[\"Score\"]\n",
    "\n",
    "    return {\"key\": \"answer_v_reference_score\", \"score\": score}\n",
    "\n",
    "# Grade prompt\n",
    "grade_prompt_answer_helpfulness = prompt = hub.pull(\"langchain-ai/rag-answer-helpfulness\")\n",
    "\n",
    "def answer_helpfulness_evaluator(run, example) -> dict:\n",
    "    \"\"\"\n",
    "    A simple evaluator for RAG answer helpfulness\n",
    "    \"\"\"\n",
    "\n",
    "    # Get question, ground truth answer, RAG chain answer\n",
    "    input_question = example.inputs.get(\"prompt\")\n",
    "    prediction = run.outputs.get(\"response\")\n",
    "\n",
    "    # LLM grader\n",
    "    llm = ChatOpenAI(model=\"gpt-4-turbo\", temperature=0)\n",
    "\n",
    "    # Structured prompt\n",
    "    answer_grader = grade_prompt_answer_helpfulness | llm\n",
    "\n",
    "    # Run evaluator\n",
    "    score = answer_grader.invoke({\"question\": input_question,\n",
    "                                  \"student_answer\": prediction})\n",
    "    score = score[\"Score\"]\n",
    "\n",
    "    return {\"key\": \"answer_helpfulness_score\", \"score\": score}\n",
    "\n",
    "# Prompt\n",
    "grade_prompt_hallucinations = prompt = hub.pull(\"langchain-ai/rag-answer-hallucination\")\n",
    "\n",
    "def answer_hallucination_evaluator(run, example) -> dict:\n",
    "    \"\"\"\n",
    "    A simple evaluator for generation hallucination\n",
    "    \"\"\"\n",
    "\n",
    "    # RAG inputs\n",
    "    input_question = example.inputs.get(\"prompt\")\n",
    "    contexts = run.outputs.get(\"context\")\n",
    "\n",
    "    # RAG answer\n",
    "    prediction = run.outputs.get(\"response\")\n",
    "    # LLM grader\n",
    "    llm = ChatOpenAI(model=\"gpt-4-turbo\", temperature=0)\n",
    "\n",
    "    # Structured prompt\n",
    "    answer_grader = grade_prompt_hallucinations | llm\n",
    "\n",
    "    # Get score\n",
    "    score = answer_grader.invoke({\"documents\": contexts,\n",
    "                                  \"student_answer\": prediction})\n",
    "    score = score[\"Score\"]\n",
    "\n",
    "    return {\"key\": \"answer_hallucination\", \"score\": score}\n",
    "\n",
    "# Grade prompt\n",
    "grade_prompt_doc_relevance = hub.pull(\"langchain-ai/rag-document-relevance\")\n",
    "\n",
    "def docs_relevance_evaluator(run, example) -> dict:\n",
    "    \"\"\"\n",
    "    A simple evaluator for document relevance\n",
    "    \"\"\"\n",
    "\n",
    "    # RAG inputs\n",
    "    input_question = example.inputs.get(\"prompt\")\n",
    "    contexts = run.outputs.get(\"context\")\n",
    "\n",
    "    # LLM grader\n",
    "    llm = ChatOpenAI(model=\"gpt-4-turbo\", temperature=0)\n",
    "\n",
    "    # Structured prompt\n",
    "    answer_grader = grade_prompt_doc_relevance | llm\n",
    "\n",
    "    # Get score\n",
    "    score = answer_grader.invoke({\"question\":input_question,\n",
    "                                  \"documents\":contexts})\n",
    "    score = score[\"Score\"]\n",
    "\n",
    "    return {\"key\": \"document_relevance\", \"score\": score}"
   ]
  },
  {
   "cell_type": "code",
   "execution_count": 3,
   "metadata": {},
   "outputs": [],
   "source": [
    "list_of_models=[\"gpt-3.5-turbo\", \"gpt-4o\",\"gpt-4-turbo\",\"gpt-3.5-turbo-0125\",\"gpt-4\"]\n",
    "dataset_name=\"full-dataset\""
   ]
  },
  {
   "cell_type": "code",
   "execution_count": 4,
   "metadata": {},
   "outputs": [
    {
     "name": "stderr",
     "output_type": "stream",
     "text": [
      "c:\\Users\\shyams\\Downloads\\projects\\rag with langsmith evaluation\\.venv\\Lib\\site-packages\\tqdm\\auto.py:21: TqdmWarning: IProgress not found. Please update jupyter and ipywidgets. See https://ipywidgets.readthedocs.io/en/stable/user_install.html\n",
      "  from .autonotebook import tqdm as notebook_tqdm\n"
     ]
    },
    {
     "name": "stdout",
     "output_type": "stream",
     "text": [
      "View the evaluation results for experiment: 'gpt-3.5-turbo rag eval-57d25218' at:\n",
      "https://smith.langchain.com/o/b47753b3-6d84-5fa3-b240-64adbbe1c7be/datasets/88a61045-2ca2-47c7-a3b1-91149cab59c1/compare?selectedSessions=4a01ce54-efba-497e-bbc7-a69e08d7fb25\n",
      "\n",
      "\n"
     ]
    },
    {
     "name": "stderr",
     "output_type": "stream",
     "text": [
      "0it [00:00, ?it/s]"
     ]
    },
    {
     "name": "stdout",
     "output_type": "stream",
     "text": [
      "client=<openai.resources.chat.completions.Completions object at 0x0000026E780C86E0> async_client=<openai.resources.chat.completions.AsyncCompletions object at 0x0000026E78123290> temperature=0.2 openai_api_key=SecretStr('**********') openai_proxy=''\n",
      "client=<openai.resources.chat.completions.Completions object at 0x0000026E7809DA90> async_client=<openai.resources.chat.completions.AsyncCompletions object at 0x0000026E79438EC0> temperature=0.2 openai_api_key=SecretStr('**********') openai_proxy=''\n",
      "client=<openai.resources.chat.completions.Completions object at 0x0000026E780EED50> async_client=<openai.resources.chat.completions.AsyncCompletions object at 0x0000026E79458C50> temperature=0.2 openai_api_key=SecretStr('**********') openai_proxy=''\n",
      "client=<openai.resources.chat.completions.Completions object at 0x0000026E7809F620> async_client=<openai.resources.chat.completions.AsyncCompletions object at 0x0000026E79498B90> temperature=0.2 openai_api_key=SecretStr('**********') openai_proxy=''\n",
      "client=<openai.resources.chat.completions.Completions object at 0x0000026E780ED130> async_client=<openai.resources.chat.completions.AsyncCompletions object at 0x0000026E794C2B10> temperature=0.2 openai_api_key=SecretStr('**********') openai_proxy=''\n",
      "client=<openai.resources.chat.completions.Completions object at 0x0000026E78104920> async_client=<openai.resources.chat.completions.AsyncCompletions object at 0x0000026E79501580> temperature=0.2 openai_api_key=SecretStr('**********') openai_proxy=''\n",
      "client=<openai.resources.chat.completions.Completions object at 0x0000026E78105C40> async_client=<openai.resources.chat.completions.AsyncCompletions object at 0x0000026E79528830> temperature=0.2 openai_api_key=SecretStr('**********') openai_proxy=''\n",
      "client=<openai.resources.chat.completions.Completions object at 0x0000026E781212B0> async_client=<openai.resources.chat.completions.AsyncCompletions object at 0x0000026E794EAE70> temperature=0.2 openai_api_key=SecretStr('**********') openai_proxy=''\n",
      "client=<openai.resources.chat.completions.Completions object at 0x0000026E781074D0> async_client=<openai.resources.chat.completions.AsyncCompletions object at 0x0000026E794EBDA0> temperature=0.2 openai_api_key=SecretStr('**********') openai_proxy=''\n",
      "client=<openai.resources.chat.completions.Completions object at 0x0000026E78117890> async_client=<openai.resources.chat.completions.AsyncCompletions object at 0x0000026E7952BC80> temperature=0.2 openai_api_key=SecretStr('**********') openai_proxy=''\n",
      "client=<openai.resources.chat.completions.Completions object at 0x0000026E78115DF0> async_client=<openai.resources.chat.completions.AsyncCompletions object at 0x0000026E79503D70> temperature=0.2 openai_api_key=SecretStr('**********') openai_proxy=''\n",
      "client=<openai.resources.chat.completions.Completions object at 0x0000026E78121940> async_client=<openai.resources.chat.completions.AsyncCompletions object at 0x0000026E795B84A0> temperature=0.2 openai_api_key=SecretStr('**********') openai_proxy=''\n"
     ]
    },
    {
     "name": "stderr",
     "output_type": "stream",
     "text": [
      "c:\\Users\\shyams\\Downloads\\projects\\rag with langsmith evaluation\\.venv\\Lib\\site-packages\\threadpoolctl.py:1214: RuntimeWarning: \n",
      "Found Intel OpenMP ('libiomp') and LLVM OpenMP ('libomp') loaded at\n",
      "the same time. Both libraries are known to be incompatible and this\n",
      "can cause random crashes or deadlocks on Linux when loaded in the\n",
      "same Python program.\n",
      "Using threadpoolctl may cause crashes or deadlocks. For more\n",
      "information and possible workarounds, please see\n",
      "    https://github.com/joblib/threadpoolctl/blob/master/multiple_openmp.md\n",
      "\n",
      "  warnings.warn(msg, RuntimeWarning)\n",
      "c:\\Users\\shyams\\Downloads\\projects\\rag with langsmith evaluation\\.venv\\Lib\\site-packages\\huggingface_hub\\file_download.py:1132: FutureWarning: `resume_download` is deprecated and will be removed in version 1.0.0. Downloads always resume when possible. If you want to force a new download, use `force_download=True`.\n",
      "  warnings.warn(\n"
     ]
    },
    {
     "name": "stdout",
     "output_type": "stream",
     "text": [
      "client=<openai.resources.chat.completions.Completions object at 0x0000026E7AAE4710> async_client=<openai.resources.chat.completions.AsyncCompletions object at 0x0000026E88E62630> temperature=0.2 openai_api_key=SecretStr('**********') openai_proxy=''\n",
      "client=<openai.resources.chat.completions.Completions object at 0x0000026E7AAE7860> async_client=<openai.resources.chat.completions.AsyncCompletions object at 0x0000026E83599940> temperature=0.2 openai_api_key=SecretStr('**********') openai_proxy=''\n",
      "client=<openai.resources.chat.completions.Completions object at 0x0000026E7AAFC3E0> async_client=<openai.resources.chat.completions.AsyncCompletions object at 0x0000026E7F627AD0> temperature=0.2 openai_api_key=SecretStr('**********') openai_proxy=''\n",
      "client=<openai.resources.chat.completions.Completions object at 0x0000026E88E72DB0> async_client=<openai.resources.chat.completions.AsyncCompletions object at 0x0000026E7F7525A0> temperature=0.2 openai_api_key=SecretStr('**********') openai_proxy=''\n",
      "client=<openai.resources.chat.completions.Completions object at 0x0000026E7F6F5B50> async_client=<openai.resources.chat.completions.AsyncCompletions object at 0x0000026E839362A0> temperature=0.2 openai_api_key=SecretStr('**********') openai_proxy=''\n",
      "client=<openai.resources.chat.completions.Completions object at 0x0000026E7F6F7E90> async_client=<openai.resources.chat.completions.AsyncCompletions object at 0x0000026E4EFC6480> temperature=0.2 openai_api_key=SecretStr('**********') openai_proxy=''\n",
      "client=<openai.resources.chat.completions.Completions object at 0x0000026E7F7113A0> async_client=<openai.resources.chat.completions.AsyncCompletions object at 0x0000026E4EFE0830> temperature=0.2 openai_api_key=SecretStr('**********') openai_proxy=''\n",
      "client=<openai.resources.chat.completions.Completions object at 0x0000026E7F713530> async_client=<openai.resources.chat.completions.AsyncCompletions object at 0x0000026E4EE4B890> temperature=0.2 openai_api_key=SecretStr('**********') openai_proxy=''\n",
      "client=<openai.resources.chat.completions.Completions object at 0x0000026E88E9C1A0> async_client=<openai.resources.chat.completions.AsyncCompletions object at 0x0000026E4F029040> temperature=0.2 openai_api_key=SecretStr('**********') openai_proxy=''\n",
      "client=<openai.resources.chat.completions.Completions object at 0x0000026E7AB18620> async_client=<openai.resources.chat.completions.AsyncCompletions object at 0x0000026EAB5D5370> temperature=0.2 openai_api_key=SecretStr('**********') openai_proxy=''\n",
      "client=<openai.resources.chat.completions.Completions object at 0x0000026E839230E0> async_client=<openai.resources.chat.completions.AsyncCompletions object at 0x0000026E8392C470> temperature=0.2 openai_api_key=SecretStr('**********') openai_proxy=''\n",
      "client=<openai.resources.chat.completions.Completions object at 0x0000026E803C3290> async_client=<openai.resources.chat.completions.AsyncCompletions object at 0x0000026E88ED3530> temperature=0.2 openai_api_key=SecretStr('**********') openai_proxy=''\n"
     ]
    },
    {
     "name": "stderr",
     "output_type": "stream",
     "text": [
      "c:\\Users\\shyams\\Downloads\\projects\\rag with langsmith evaluation\\.venv\\Lib\\site-packages\\huggingface_hub\\file_download.py:1132: FutureWarning: `resume_download` is deprecated and will be removed in version 1.0.0. Downloads always resume when possible. If you want to force a new download, use `force_download=True`.\n",
      "  warnings.warn(\n",
      "c:\\Users\\shyams\\Downloads\\projects\\rag with langsmith evaluation\\.venv\\Lib\\site-packages\\huggingface_hub\\file_download.py:1132: FutureWarning: `resume_download` is deprecated and will be removed in version 1.0.0. Downloads always resume when possible. If you want to force a new download, use `force_download=True`.\n",
      "  warnings.warn(\n",
      "c:\\Users\\shyams\\Downloads\\projects\\rag with langsmith evaluation\\.venv\\Lib\\site-packages\\huggingface_hub\\file_download.py:1132: FutureWarning: `resume_download` is deprecated and will be removed in version 1.0.0. Downloads always resume when possible. If you want to force a new download, use `force_download=True`.\n",
      "  warnings.warn(\n",
      "c:\\Users\\shyams\\Downloads\\projects\\rag with langsmith evaluation\\.venv\\Lib\\site-packages\\huggingface_hub\\file_download.py:1132: FutureWarning: `resume_download` is deprecated and will be removed in version 1.0.0. Downloads always resume when possible. If you want to force a new download, use `force_download=True`.\n",
      "  warnings.warn(\n",
      "c:\\Users\\shyams\\Downloads\\projects\\rag with langsmith evaluation\\.venv\\Lib\\site-packages\\huggingface_hub\\file_download.py:1132: FutureWarning: `resume_download` is deprecated and will be removed in version 1.0.0. Downloads always resume when possible. If you want to force a new download, use `force_download=True`.\n",
      "  warnings.warn(\n",
      "c:\\Users\\shyams\\Downloads\\projects\\rag with langsmith evaluation\\.venv\\Lib\\site-packages\\huggingface_hub\\file_download.py:1132: FutureWarning: `resume_download` is deprecated and will be removed in version 1.0.0. Downloads always resume when possible. If you want to force a new download, use `force_download=True`.\n",
      "  warnings.warn(\n",
      "c:\\Users\\shyams\\Downloads\\projects\\rag with langsmith evaluation\\.venv\\Lib\\site-packages\\huggingface_hub\\file_download.py:1132: FutureWarning: `resume_download` is deprecated and will be removed in version 1.0.0. Downloads always resume when possible. If you want to force a new download, use `force_download=True`.\n",
      "  warnings.warn(\n"
     ]
    },
    {
     "name": "stdout",
     "output_type": "stream",
     "text": [
      "client=<openai.resources.chat.completions.Completions object at 0x0000026E80917E60> async_client=<openai.resources.chat.completions.AsyncCompletions object at 0x0000026E88F388F0> temperature=0.2 openai_api_key=SecretStr('**********') openai_proxy=''\n"
     ]
    },
    {
     "name": "stderr",
     "output_type": "stream",
     "text": [
      "c:\\Users\\shyams\\Downloads\\projects\\rag with langsmith evaluation\\.venv\\Lib\\site-packages\\huggingface_hub\\file_download.py:1132: FutureWarning: `resume_download` is deprecated and will be removed in version 1.0.0. Downloads always resume when possible. If you want to force a new download, use `force_download=True`.\n",
      "  warnings.warn(\n"
     ]
    },
    {
     "name": "stdout",
     "output_type": "stream",
     "text": [
      "client=<openai.resources.chat.completions.Completions object at 0x0000026E795BBB00> async_client=<openai.resources.chat.completions.AsyncCompletions object at 0x0000026E7AAA5FA0> temperature=0.2 openai_api_key=SecretStr('**********') openai_proxy=''\n"
     ]
    },
    {
     "name": "stderr",
     "output_type": "stream",
     "text": [
      "c:\\Users\\shyams\\Downloads\\projects\\rag with langsmith evaluation\\.venv\\Lib\\site-packages\\huggingface_hub\\file_download.py:1132: FutureWarning: `resume_download` is deprecated and will be removed in version 1.0.0. Downloads always resume when possible. If you want to force a new download, use `force_download=True`.\n",
      "  warnings.warn(\n"
     ]
    },
    {
     "name": "stdout",
     "output_type": "stream",
     "text": [
      "client=<openai.resources.chat.completions.Completions object at 0x0000026E78106900> async_client=<openai.resources.chat.completions.AsyncCompletions object at 0x0000026E807094C0> temperature=0.2 openai_api_key=SecretStr('**********') openai_proxy=''\n"
     ]
    },
    {
     "name": "stderr",
     "output_type": "stream",
     "text": [
      "c:\\Users\\shyams\\Downloads\\projects\\rag with langsmith evaluation\\.venv\\Lib\\site-packages\\huggingface_hub\\file_download.py:1132: FutureWarning: `resume_download` is deprecated and will be removed in version 1.0.0. Downloads always resume when possible. If you want to force a new download, use `force_download=True`.\n",
      "  warnings.warn(\n"
     ]
    },
    {
     "name": "stdout",
     "output_type": "stream",
     "text": [
      "client=<openai.resources.chat.completions.Completions object at 0x0000026E780EF4D0> async_client=<openai.resources.chat.completions.AsyncCompletions object at 0x0000026E96697DA0> temperature=0.2 openai_api_key=SecretStr('**********') openai_proxy=''\n"
     ]
    },
    {
     "name": "stderr",
     "output_type": "stream",
     "text": [
      "c:\\Users\\shyams\\Downloads\\projects\\rag with langsmith evaluation\\.venv\\Lib\\site-packages\\huggingface_hub\\file_download.py:1132: FutureWarning: `resume_download` is deprecated and will be removed in version 1.0.0. Downloads always resume when possible. If you want to force a new download, use `force_download=True`.\n",
      "  warnings.warn(\n"
     ]
    },
    {
     "name": "stdout",
     "output_type": "stream",
     "text": [
      "client=<openai.resources.chat.completions.Completions object at 0x0000026E80677BF0> async_client=<openai.resources.chat.completions.AsyncCompletions object at 0x0000026E808AE810> temperature=0.2 openai_api_key=SecretStr('**********') openai_proxy=''\n",
      "client=<openai.resources.chat.completions.Completions object at 0x0000026E80692330> async_client=<openai.resources.chat.completions.AsyncCompletions object at 0x0000026E80625700> temperature=0.2 openai_api_key=SecretStr('**********') openai_proxy=''\n",
      "client=<openai.resources.chat.completions.Completions object at 0x0000026E80676BA0> async_client=<openai.resources.chat.completions.AsyncCompletions object at 0x0000026E806846E0> temperature=0.2 openai_api_key=SecretStr('**********') openai_proxy=''\n",
      "client=<openai.resources.chat.completions.Completions object at 0x0000026E8068A180> async_client=<openai.resources.chat.completions.AsyncCompletions object at 0x0000026E4EF8C980> temperature=0.2 openai_api_key=SecretStr('**********') openai_proxy=''\n",
      "client=<openai.resources.chat.completions.Completions object at 0x0000026E95B2DB50> async_client=<openai.resources.chat.completions.AsyncCompletions object at 0x0000026E95B3E9F0> temperature=0.2 openai_api_key=SecretStr('**********') openai_proxy=''\n"
     ]
    },
    {
     "name": "stderr",
     "output_type": "stream",
     "text": [
      "c:\\Users\\shyams\\Downloads\\projects\\rag with langsmith evaluation\\.venv\\Lib\\site-packages\\huggingface_hub\\file_download.py:1132: FutureWarning: `resume_download` is deprecated and will be removed in version 1.0.0. Downloads always resume when possible. If you want to force a new download, use `force_download=True`.\n",
      "  warnings.warn(\n"
     ]
    },
    {
     "name": "stdout",
     "output_type": "stream",
     "text": [
      "client=<openai.resources.chat.completions.Completions object at 0x0000026E95B81640> async_client=<openai.resources.chat.completions.AsyncCompletions object at 0x0000026E4EAE3320> temperature=0.2 openai_api_key=SecretStr('**********') openai_proxy=''\n",
      "client=<openai.resources.chat.completions.Completions object at 0x0000026E80687110> async_client=<openai.resources.chat.completions.AsyncCompletions object at 0x0000026E78121310> temperature=0.2 openai_api_key=SecretStr('**********') openai_proxy=''\n",
      "client=<openai.resources.chat.completions.Completions object at 0x0000026E95CFC1A0> async_client=<openai.resources.chat.completions.AsyncCompletions object at 0x0000026E807D81A0> temperature=0.2 openai_api_key=SecretStr('**********') openai_proxy=''\n"
     ]
    },
    {
     "name": "stderr",
     "output_type": "stream",
     "text": [
      "c:\\Users\\shyams\\Downloads\\projects\\rag with langsmith evaluation\\.venv\\Lib\\site-packages\\huggingface_hub\\file_download.py:1132: FutureWarning: `resume_download` is deprecated and will be removed in version 1.0.0. Downloads always resume when possible. If you want to force a new download, use `force_download=True`.\n",
      "  warnings.warn(\n",
      "c:\\Users\\shyams\\Downloads\\projects\\rag with langsmith evaluation\\.venv\\Lib\\site-packages\\huggingface_hub\\file_download.py:1132: FutureWarning: `resume_download` is deprecated and will be removed in version 1.0.0. Downloads always resume when possible. If you want to force a new download, use `force_download=True`.\n",
      "  warnings.warn(\n",
      "c:\\Users\\shyams\\Downloads\\projects\\rag with langsmith evaluation\\.venv\\Lib\\site-packages\\huggingface_hub\\file_download.py:1132: FutureWarning: `resume_download` is deprecated and will be removed in version 1.0.0. Downloads always resume when possible. If you want to force a new download, use `force_download=True`.\n",
      "  warnings.warn(\n"
     ]
    },
    {
     "name": "stdout",
     "output_type": "stream",
     "text": [
      "client=<openai.resources.chat.completions.Completions object at 0x0000026E82274200> async_client=<openai.resources.chat.completions.AsyncCompletions object at 0x0000026E80C03C50> temperature=0.2 openai_api_key=SecretStr('**********') openai_proxy=''\n"
     ]
    },
    {
     "name": "stderr",
     "output_type": "stream",
     "text": [
      "c:\\Users\\shyams\\Downloads\\projects\\rag with langsmith evaluation\\.venv\\Lib\\site-packages\\huggingface_hub\\file_download.py:1132: FutureWarning: `resume_download` is deprecated and will be removed in version 1.0.0. Downloads always resume when possible. If you want to force a new download, use `force_download=True`.\n",
      "  warnings.warn(\n",
      "c:\\Users\\shyams\\Downloads\\projects\\rag with langsmith evaluation\\.venv\\Lib\\site-packages\\huggingface_hub\\file_download.py:1132: FutureWarning: `resume_download` is deprecated and will be removed in version 1.0.0. Downloads always resume when possible. If you want to force a new download, use `force_download=True`.\n",
      "  warnings.warn(\n",
      "c:\\Users\\shyams\\Downloads\\projects\\rag with langsmith evaluation\\.venv\\Lib\\site-packages\\huggingface_hub\\file_download.py:1132: FutureWarning: `resume_download` is deprecated and will be removed in version 1.0.0. Downloads always resume when possible. If you want to force a new download, use `force_download=True`.\n",
      "  warnings.warn(\n",
      "c:\\Users\\shyams\\Downloads\\projects\\rag with langsmith evaluation\\.venv\\Lib\\site-packages\\huggingface_hub\\file_download.py:1132: FutureWarning: `resume_download` is deprecated and will be removed in version 1.0.0. Downloads always resume when possible. If you want to force a new download, use `force_download=True`.\n",
      "  warnings.warn(\n"
     ]
    },
    {
     "name": "stdout",
     "output_type": "stream",
     "text": [
      "client=<openai.resources.chat.completions.Completions object at 0x0000026E81BB0C50> async_client=<openai.resources.chat.completions.AsyncCompletions object at 0x0000026E80C33D10> temperature=0.2 openai_api_key=SecretStr('**********') openai_proxy=''\n"
     ]
    },
    {
     "name": "stderr",
     "output_type": "stream",
     "text": [
      "c:\\Users\\shyams\\Downloads\\projects\\rag with langsmith evaluation\\.venv\\Lib\\site-packages\\huggingface_hub\\file_download.py:1132: FutureWarning: `resume_download` is deprecated and will be removed in version 1.0.0. Downloads always resume when possible. If you want to force a new download, use `force_download=True`.\n",
      "  warnings.warn(\n"
     ]
    },
    {
     "name": "stdout",
     "output_type": "stream",
     "text": [
      "client=<openai.resources.chat.completions.Completions object at 0x0000026E83599460> async_client=<openai.resources.chat.completions.AsyncCompletions object at 0x0000026E88F35010> temperature=0.2 openai_api_key=SecretStr('**********') openai_proxy=''\n"
     ]
    },
    {
     "name": "stderr",
     "output_type": "stream",
     "text": [
      "c:\\Users\\shyams\\Downloads\\projects\\rag with langsmith evaluation\\.venv\\Lib\\site-packages\\huggingface_hub\\file_download.py:1132: FutureWarning: `resume_download` is deprecated and will be removed in version 1.0.0. Downloads always resume when possible. If you want to force a new download, use `force_download=True`.\n",
      "  warnings.warn(\n"
     ]
    },
    {
     "name": "stdout",
     "output_type": "stream",
     "text": [
      "client=<openai.resources.chat.completions.Completions object at 0x0000026E806F7E60> async_client=<openai.resources.chat.completions.AsyncCompletions object at 0x0000026E88F43E60> temperature=0.2 openai_api_key=SecretStr('**********') openai_proxy=''\n"
     ]
    },
    {
     "name": "stderr",
     "output_type": "stream",
     "text": [
      "c:\\Users\\shyams\\Downloads\\projects\\rag with langsmith evaluation\\.venv\\Lib\\site-packages\\huggingface_hub\\file_download.py:1132: FutureWarning: `resume_download` is deprecated and will be removed in version 1.0.0. Downloads always resume when possible. If you want to force a new download, use `force_download=True`.\n",
      "  warnings.warn(\n"
     ]
    },
    {
     "name": "stdout",
     "output_type": "stream",
     "text": [
      "client=<openai.resources.chat.completions.Completions object at 0x0000026E808CA1B0> async_client=<openai.resources.chat.completions.AsyncCompletions object at 0x0000026E95AF4920> temperature=0.2 openai_api_key=SecretStr('**********') openai_proxy=''\n",
      "client=<openai.resources.chat.completions.Completions object at 0x0000026E808A66F0> async_client=<openai.resources.chat.completions.AsyncCompletions object at 0x0000026E807D9FD0> temperature=0.2 openai_api_key=SecretStr('**********') openai_proxy=''\n"
     ]
    },
    {
     "name": "stderr",
     "output_type": "stream",
     "text": [
      "c:\\Users\\shyams\\Downloads\\projects\\rag with langsmith evaluation\\.venv\\Lib\\site-packages\\huggingface_hub\\file_download.py:1132: FutureWarning: `resume_download` is deprecated and will be removed in version 1.0.0. Downloads always resume when possible. If you want to force a new download, use `force_download=True`.\n",
      "  warnings.warn(\n"
     ]
    },
    {
     "name": "stdout",
     "output_type": "stream",
     "text": [
      "client=<openai.resources.chat.completions.Completions object at 0x0000026E88F28650> async_client=<openai.resources.chat.completions.AsyncCompletions object at 0x0000026E806250D0> temperature=0.2 openai_api_key=SecretStr('**********') openai_proxy=''\n"
     ]
    },
    {
     "name": "stderr",
     "output_type": "stream",
     "text": [
      "c:\\Users\\shyams\\Downloads\\projects\\rag with langsmith evaluation\\.venv\\Lib\\site-packages\\huggingface_hub\\file_download.py:1132: FutureWarning: `resume_download` is deprecated and will be removed in version 1.0.0. Downloads always resume when possible. If you want to force a new download, use `force_download=True`.\n",
      "  warnings.warn(\n"
     ]
    },
    {
     "name": "stdout",
     "output_type": "stream",
     "text": [
      "client=<openai.resources.chat.completions.Completions object at 0x0000026E8229A360> async_client=<openai.resources.chat.completions.AsyncCompletions object at 0x0000026E79737350> temperature=0.2 openai_api_key=SecretStr('**********') openai_proxy=''\n",
      "client=<openai.resources.chat.completions.Completions object at 0x0000026E8224BBC0> async_client=<openai.resources.chat.completions.AsyncCompletions object at 0x0000026E822013A0> temperature=0.2 openai_api_key=SecretStr('**********') openai_proxy=''\n",
      "client=<openai.resources.chat.completions.Completions object at 0x0000026E8229B4D0> async_client=<openai.resources.chat.completions.AsyncCompletions object at 0x0000026E806409E0> temperature=0.2 openai_api_key=SecretStr('**********') openai_proxy=''\n",
      "client=<openai.resources.chat.completions.Completions object at 0x0000026E822496A0> async_client=<openai.resources.chat.completions.AsyncCompletions object at 0x0000026E78107A40> temperature=0.2 openai_api_key=SecretStr('**********') openai_proxy=''\n",
      "client=<openai.resources.chat.completions.Completions object at 0x0000026E80B3E060> async_client=<openai.resources.chat.completions.AsyncCompletions object at 0x0000026E80BE4230> temperature=0.2 openai_api_key=SecretStr('**********') openai_proxy=''\n"
     ]
    },
    {
     "name": "stderr",
     "output_type": "stream",
     "text": [
      "c:\\Users\\shyams\\Downloads\\projects\\rag with langsmith evaluation\\.venv\\Lib\\site-packages\\huggingface_hub\\file_download.py:1132: FutureWarning: `resume_download` is deprecated and will be removed in version 1.0.0. Downloads always resume when possible. If you want to force a new download, use `force_download=True`.\n",
      "  warnings.warn(\n",
      "c:\\Users\\shyams\\Downloads\\projects\\rag with langsmith evaluation\\.venv\\Lib\\site-packages\\huggingface_hub\\file_download.py:1132: FutureWarning: `resume_download` is deprecated and will be removed in version 1.0.0. Downloads always resume when possible. If you want to force a new download, use `force_download=True`.\n",
      "  warnings.warn(\n",
      "c:\\Users\\shyams\\Downloads\\projects\\rag with langsmith evaluation\\.venv\\Lib\\site-packages\\huggingface_hub\\file_download.py:1132: FutureWarning: `resume_download` is deprecated and will be removed in version 1.0.0. Downloads always resume when possible. If you want to force a new download, use `force_download=True`.\n",
      "  warnings.warn(\n",
      "48it [06:58,  8.73s/it]\n"
     ]
    },
    {
     "name": "stdout",
     "output_type": "stream",
     "text": [
      "View the evaluation results for experiment: 'gpt-4o rag eval-e61bdfa6' at:\n",
      "https://smith.langchain.com/o/b47753b3-6d84-5fa3-b240-64adbbe1c7be/datasets/88a61045-2ca2-47c7-a3b1-91149cab59c1/compare?selectedSessions=d71f21bb-037c-4a78-a8ea-bcaa99453920\n",
      "\n",
      "\n"
     ]
    },
    {
     "name": "stderr",
     "output_type": "stream",
     "text": [
      "0it [00:00, ?it/s]"
     ]
    },
    {
     "name": "stdout",
     "output_type": "stream",
     "text": [
      "client=<openai.resources.chat.completions.Completions object at 0x0000026E80A61CD0> async_client=<openai.resources.chat.completions.AsyncCompletions object at 0x0000026E9634A270> model_name='gpt-4o' temperature=0.2 openai_api_key=SecretStr('**********') openai_proxy=''\n",
      "client=<openai.resources.chat.completions.Completions object at 0x0000026E95BEDEE0> async_client=<openai.resources.chat.completions.AsyncCompletions object at 0x0000026E8C17E480> model_name='gpt-4o' temperature=0.2 openai_api_key=SecretStr('**********') openai_proxy=''\n",
      "client=<openai.resources.chat.completions.Completions object at 0x0000026E81B72750> async_client=<openai.resources.chat.completions.AsyncCompletions object at 0x0000026E919CA3C0> model_name='gpt-4o' temperature=0.2 openai_api_key=SecretStr('**********') openai_proxy=''\n",
      "client=<openai.resources.chat.completions.Completions object at 0x0000026E88ED2F00> async_client=<openai.resources.chat.completions.AsyncCompletions object at 0x0000026E7F5BBA40> model_name='gpt-4o' temperature=0.2 openai_api_key=SecretStr('**********') openai_proxy=''\n",
      "client=<openai.resources.chat.completions.Completions object at 0x0000026E95C74BF0> async_client=<openai.resources.chat.completions.AsyncCompletions object at 0x0000026E80E55880> model_name='gpt-4o' temperature=0.2 openai_api_key=SecretStr('**********') openai_proxy=''\n",
      "client=<openai.resources.chat.completions.Completions object at 0x0000026E81B03F50> async_client=<openai.resources.chat.completions.AsyncCompletions object at 0x0000026E919CA030> model_name='gpt-4o' temperature=0.2 openai_api_key=SecretStr('**********') openai_proxy=''\n",
      "client=<openai.resources.chat.completions.Completions object at 0x0000026E88ED2B10> async_client=<openai.resources.chat.completions.AsyncCompletions object at 0x0000026E82240DD0> model_name='gpt-4o' temperature=0.2 openai_api_key=SecretStr('**********') openai_proxy=''\n",
      "client=<openai.resources.chat.completions.Completions object at 0x0000026E81B00EC0> async_client=<openai.resources.chat.completions.AsyncCompletions object at 0x0000026E919C8B30> model_name='gpt-4o' temperature=0.2 openai_api_key=SecretStr('**********') openai_proxy=''\n",
      "client=<openai.resources.chat.completions.Completions object at 0x0000026E96037DD0> async_client=<openai.resources.chat.completions.AsyncCompletions object at 0x0000026E8115D550> model_name='gpt-4o' temperature=0.2 openai_api_key=SecretStr('**********') openai_proxy=''\n",
      "client=<openai.resources.chat.completions.Completions object at 0x0000026E8392FBC0> async_client=<openai.resources.chat.completions.AsyncCompletions object at 0x0000026E81B57110> model_name='gpt-4o' temperature=0.2 openai_api_key=SecretStr('**********') openai_proxy=''\n",
      "client=<openai.resources.chat.completions.Completions object at 0x0000026E806938F0> async_client=<openai.resources.chat.completions.AsyncCompletions object at 0x0000026E80D672C0> model_name='gpt-4o' temperature=0.2 openai_api_key=SecretStr('**********') openai_proxy=''\n",
      "client=<openai.resources.chat.completions.Completions object at 0x0000026E80692540> async_client=<openai.resources.chat.completions.AsyncCompletions object at 0x0000026E821FD790> model_name='gpt-4o' temperature=0.2 openai_api_key=SecretStr('**********') openai_proxy=''\n"
     ]
    },
    {
     "name": "stderr",
     "output_type": "stream",
     "text": [
      "c:\\Users\\shyams\\Downloads\\projects\\rag with langsmith evaluation\\.venv\\Lib\\site-packages\\huggingface_hub\\file_download.py:1132: FutureWarning: `resume_download` is deprecated and will be removed in version 1.0.0. Downloads always resume when possible. If you want to force a new download, use `force_download=True`.\n",
      "  warnings.warn(\n"
     ]
    },
    {
     "name": "stdout",
     "output_type": "stream",
     "text": [
      "client=<openai.resources.chat.completions.Completions object at 0x0000026E8090DEE0> async_client=<openai.resources.chat.completions.AsyncCompletions object at 0x0000026E7976D520> model_name='gpt-4o' temperature=0.2 openai_api_key=SecretStr('**********') openai_proxy=''\n"
     ]
    },
    {
     "name": "stderr",
     "output_type": "stream",
     "text": [
      "c:\\Users\\shyams\\Downloads\\projects\\rag with langsmith evaluation\\.venv\\Lib\\site-packages\\huggingface_hub\\file_download.py:1132: FutureWarning: `resume_download` is deprecated and will be removed in version 1.0.0. Downloads always resume when possible. If you want to force a new download, use `force_download=True`.\n",
      "  warnings.warn(\n"
     ]
    },
    {
     "name": "stdout",
     "output_type": "stream",
     "text": [
      "client=<openai.resources.chat.completions.Completions object at 0x0000026E919FA360> async_client=<openai.resources.chat.completions.AsyncCompletions object at 0x0000026E81BB2F30> model_name='gpt-4o' temperature=0.2 openai_api_key=SecretStr('**********') openai_proxy=''\n",
      "client=<openai.resources.chat.completions.Completions object at 0x0000026E9603F500> async_client=<openai.resources.chat.completions.AsyncCompletions object at 0x0000026E88F36990> model_name='gpt-4o' temperature=0.2 openai_api_key=SecretStr('**********') openai_proxy=''\n",
      "client=<openai.resources.chat.completions.Completions object at 0x0000026E88EFF170> async_client=<openai.resources.chat.completions.AsyncCompletions object at 0x0000026E9196F950> model_name='gpt-4o' temperature=0.2 openai_api_key=SecretStr('**********') openai_proxy=''\n",
      "client=<openai.resources.chat.completions.Completions object at 0x0000026E797CDBE0> async_client=<openai.resources.chat.completions.AsyncCompletions object at 0x0000026E80C338F0> model_name='gpt-4o' temperature=0.2 openai_api_key=SecretStr('**********') openai_proxy=''\n",
      "client=<openai.resources.chat.completions.Completions object at 0x0000026E8090F0E0> async_client=<openai.resources.chat.completions.AsyncCompletions object at 0x0000026E919D7EC0> model_name='gpt-4o' temperature=0.2 openai_api_key=SecretStr('**********') openai_proxy=''\n",
      "client=<openai.resources.chat.completions.Completions object at 0x0000026E80685970> async_client=<openai.resources.chat.completions.AsyncCompletions object at 0x0000026E9196FF80> model_name='gpt-4o' temperature=0.2 openai_api_key=SecretStr('**********') openai_proxy=''\n",
      "client=<openai.resources.chat.completions.Completions object at 0x0000026E808C9A00> async_client=<openai.resources.chat.completions.AsyncCompletions object at 0x0000026E91A1FA70> model_name='gpt-4o' temperature=0.2 openai_api_key=SecretStr('**********') openai_proxy=''\n",
      "client=<openai.resources.chat.completions.Completions object at 0x0000026E80908200> async_client=<openai.resources.chat.completions.AsyncCompletions object at 0x0000026E80DD7830> model_name='gpt-4o' temperature=0.2 openai_api_key=SecretStr('**********') openai_proxy=''\n",
      "client=<openai.resources.chat.completions.Completions object at 0x0000026E96402660> async_client=<openai.resources.chat.completions.AsyncCompletions object at 0x0000026E9196F770> model_name='gpt-4o' temperature=0.2 openai_api_key=SecretStr('**********') openai_proxy=''\n",
      "client=<openai.resources.chat.completions.Completions object at 0x0000026E919AB560> async_client=<openai.resources.chat.completions.AsyncCompletions object at 0x0000026E91A1C8C0> model_name='gpt-4o' temperature=0.2 openai_api_key=SecretStr('**********') openai_proxy=''\n",
      "client=<openai.resources.chat.completions.Completions object at 0x0000026E919ABBC0> async_client=<openai.resources.chat.completions.AsyncCompletions object at 0x0000026E91970F50> model_name='gpt-4o' temperature=0.2 openai_api_key=SecretStr('**********') openai_proxy=''\n"
     ]
    },
    {
     "name": "stderr",
     "output_type": "stream",
     "text": [
      "c:\\Users\\shyams\\Downloads\\projects\\rag with langsmith evaluation\\.venv\\Lib\\site-packages\\huggingface_hub\\file_download.py:1132: FutureWarning: `resume_download` is deprecated and will be removed in version 1.0.0. Downloads always resume when possible. If you want to force a new download, use `force_download=True`.\n",
      "  warnings.warn(\n",
      "c:\\Users\\shyams\\Downloads\\projects\\rag with langsmith evaluation\\.venv\\Lib\\site-packages\\huggingface_hub\\file_download.py:1132: FutureWarning: `resume_download` is deprecated and will be removed in version 1.0.0. Downloads always resume when possible. If you want to force a new download, use `force_download=True`.\n",
      "  warnings.warn(\n",
      "c:\\Users\\shyams\\Downloads\\projects\\rag with langsmith evaluation\\.venv\\Lib\\site-packages\\huggingface_hub\\file_download.py:1132: FutureWarning: `resume_download` is deprecated and will be removed in version 1.0.0. Downloads always resume when possible. If you want to force a new download, use `force_download=True`.\n",
      "  warnings.warn(\n",
      "c:\\Users\\shyams\\Downloads\\projects\\rag with langsmith evaluation\\.venv\\Lib\\site-packages\\huggingface_hub\\file_download.py:1132: FutureWarning: `resume_download` is deprecated and will be removed in version 1.0.0. Downloads always resume when possible. If you want to force a new download, use `force_download=True`.\n",
      "  warnings.warn(\n",
      "c:\\Users\\shyams\\Downloads\\projects\\rag with langsmith evaluation\\.venv\\Lib\\site-packages\\huggingface_hub\\file_download.py:1132: FutureWarning: `resume_download` is deprecated and will be removed in version 1.0.0. Downloads always resume when possible. If you want to force a new download, use `force_download=True`.\n",
      "  warnings.warn(\n",
      "c:\\Users\\shyams\\Downloads\\projects\\rag with langsmith evaluation\\.venv\\Lib\\site-packages\\huggingface_hub\\file_download.py:1132: FutureWarning: `resume_download` is deprecated and will be removed in version 1.0.0. Downloads always resume when possible. If you want to force a new download, use `force_download=True`.\n",
      "  warnings.warn(\n",
      "c:\\Users\\shyams\\Downloads\\projects\\rag with langsmith evaluation\\.venv\\Lib\\site-packages\\huggingface_hub\\file_download.py:1132: FutureWarning: `resume_download` is deprecated and will be removed in version 1.0.0. Downloads always resume when possible. If you want to force a new download, use `force_download=True`.\n",
      "  warnings.warn(\n",
      "c:\\Users\\shyams\\Downloads\\projects\\rag with langsmith evaluation\\.venv\\Lib\\site-packages\\huggingface_hub\\file_download.py:1132: FutureWarning: `resume_download` is deprecated and will be removed in version 1.0.0. Downloads always resume when possible. If you want to force a new download, use `force_download=True`.\n",
      "  warnings.warn(\n"
     ]
    },
    {
     "name": "stdout",
     "output_type": "stream",
     "text": [
      "client=<openai.resources.chat.completions.Completions object at 0x0000026E91A36CC0> async_client=<openai.resources.chat.completions.AsyncCompletions object at 0x0000026E8A3726F0> model_name='gpt-4o' temperature=0.2 openai_api_key=SecretStr('**********') openai_proxy=''\n"
     ]
    },
    {
     "name": "stderr",
     "output_type": "stream",
     "text": [
      "c:\\Users\\shyams\\Downloads\\projects\\rag with langsmith evaluation\\.venv\\Lib\\site-packages\\huggingface_hub\\file_download.py:1132: FutureWarning: `resume_download` is deprecated and will be removed in version 1.0.0. Downloads always resume when possible. If you want to force a new download, use `force_download=True`.\n",
      "  warnings.warn(\n"
     ]
    },
    {
     "name": "stdout",
     "output_type": "stream",
     "text": [
      "client=<openai.resources.chat.completions.Completions object at 0x0000026E85D4FE60> async_client=<openai.resources.chat.completions.AsyncCompletions object at 0x0000026E81215CA0> model_name='gpt-4o' temperature=0.2 openai_api_key=SecretStr('**********') openai_proxy=''\n"
     ]
    },
    {
     "name": "stderr",
     "output_type": "stream",
     "text": [
      "c:\\Users\\shyams\\Downloads\\projects\\rag with langsmith evaluation\\.venv\\Lib\\site-packages\\huggingface_hub\\file_download.py:1132: FutureWarning: `resume_download` is deprecated and will be removed in version 1.0.0. Downloads always resume when possible. If you want to force a new download, use `force_download=True`.\n",
      "  warnings.warn(\n"
     ]
    },
    {
     "name": "stdout",
     "output_type": "stream",
     "text": [
      "client=<openai.resources.chat.completions.Completions object at 0x0000026E8187C950> async_client=<openai.resources.chat.completions.AsyncCompletions object at 0x0000026E82147CB0> model_name='gpt-4o' temperature=0.2 openai_api_key=SecretStr('**********') openai_proxy=''\n"
     ]
    },
    {
     "name": "stderr",
     "output_type": "stream",
     "text": [
      "c:\\Users\\shyams\\Downloads\\projects\\rag with langsmith evaluation\\.venv\\Lib\\site-packages\\huggingface_hub\\file_download.py:1132: FutureWarning: `resume_download` is deprecated and will be removed in version 1.0.0. Downloads always resume when possible. If you want to force a new download, use `force_download=True`.\n",
      "  warnings.warn(\n"
     ]
    },
    {
     "name": "stdout",
     "output_type": "stream",
     "text": [
      "client=<openai.resources.chat.completions.Completions object at 0x0000026E82147830> async_client=<openai.resources.chat.completions.AsyncCompletions object at 0x0000026E80DD36E0> model_name='gpt-4o' temperature=0.2 openai_api_key=SecretStr('**********') openai_proxy=''\n",
      "client=<openai.resources.chat.completions.Completions object at 0x0000026E81832150> async_client=<openai.resources.chat.completions.AsyncCompletions object at 0x0000026E781206E0> model_name='gpt-4o' temperature=0.2 openai_api_key=SecretStr('**********') openai_proxy=''\n"
     ]
    },
    {
     "name": "stderr",
     "output_type": "stream",
     "text": [
      "c:\\Users\\shyams\\Downloads\\projects\\rag with langsmith evaluation\\.venv\\Lib\\site-packages\\huggingface_hub\\file_download.py:1132: FutureWarning: `resume_download` is deprecated and will be removed in version 1.0.0. Downloads always resume when possible. If you want to force a new download, use `force_download=True`.\n",
      "  warnings.warn(\n"
     ]
    },
    {
     "name": "stdout",
     "output_type": "stream",
     "text": [
      "client=<openai.resources.chat.completions.Completions object at 0x0000026E88E9DEE0> async_client=<openai.resources.chat.completions.AsyncCompletions object at 0x0000026E78104E60> model_name='gpt-4o' temperature=0.2 openai_api_key=SecretStr('**********') openai_proxy=''\n"
     ]
    },
    {
     "name": "stderr",
     "output_type": "stream",
     "text": [
      "c:\\Users\\shyams\\Downloads\\projects\\rag with langsmith evaluation\\.venv\\Lib\\site-packages\\huggingface_hub\\file_download.py:1132: FutureWarning: `resume_download` is deprecated and will be removed in version 1.0.0. Downloads always resume when possible. If you want to force a new download, use `force_download=True`.\n",
      "  warnings.warn(\n"
     ]
    },
    {
     "name": "stdout",
     "output_type": "stream",
     "text": [
      "client=<openai.resources.chat.completions.Completions object at 0x0000026E82075100> async_client=<openai.resources.chat.completions.AsyncCompletions object at 0x0000026E8A3ECD10> model_name='gpt-4o' temperature=0.2 openai_api_key=SecretStr('**********') openai_proxy=''\n",
      "client=<openai.resources.chat.completions.Completions object at 0x0000026E4EFAB950> async_client=<openai.resources.chat.completions.AsyncCompletions object at 0x0000026E9196C380> model_name='gpt-4o' temperature=0.2 openai_api_key=SecretStr('**********') openai_proxy=''\n"
     ]
    },
    {
     "name": "stderr",
     "output_type": "stream",
     "text": [
      "c:\\Users\\shyams\\Downloads\\projects\\rag with langsmith evaluation\\.venv\\Lib\\site-packages\\huggingface_hub\\file_download.py:1132: FutureWarning: `resume_download` is deprecated and will be removed in version 1.0.0. Downloads always resume when possible. If you want to force a new download, use `force_download=True`.\n",
      "  warnings.warn(\n",
      "c:\\Users\\shyams\\Downloads\\projects\\rag with langsmith evaluation\\.venv\\Lib\\site-packages\\huggingface_hub\\file_download.py:1132: FutureWarning: `resume_download` is deprecated and will be removed in version 1.0.0. Downloads always resume when possible. If you want to force a new download, use `force_download=True`.\n",
      "  warnings.warn(\n"
     ]
    },
    {
     "name": "stdout",
     "output_type": "stream",
     "text": [
      "client=<openai.resources.chat.completions.Completions object at 0x0000026E81615370> async_client=<openai.resources.chat.completions.AsyncCompletions object at 0x0000026E7AAA6A80> model_name='gpt-4o' temperature=0.2 openai_api_key=SecretStr('**********') openai_proxy=''\n",
      "client=<openai.resources.chat.completions.Completions object at 0x0000026E8C0B3AA0> async_client=<openai.resources.chat.completions.AsyncCompletions object at 0x0000026E818AD7F0> model_name='gpt-4o' temperature=0.2 openai_api_key=SecretStr('**********') openai_proxy=''\n",
      "client=<openai.resources.chat.completions.Completions object at 0x0000026E80C01E20> async_client=<openai.resources.chat.completions.AsyncCompletions object at 0x0000026E8589E9F0> model_name='gpt-4o' temperature=0.2 openai_api_key=SecretStr('**********') openai_proxy=''\n",
      "client=<openai.resources.chat.completions.Completions object at 0x0000026E88EFDB80> async_client=<openai.resources.chat.completions.AsyncCompletions object at 0x0000026E797CD730> model_name='gpt-4o' temperature=0.2 openai_api_key=SecretStr('**********') openai_proxy=''\n"
     ]
    },
    {
     "name": "stderr",
     "output_type": "stream",
     "text": [
      "c:\\Users\\shyams\\Downloads\\projects\\rag with langsmith evaluation\\.venv\\Lib\\site-packages\\huggingface_hub\\file_download.py:1132: FutureWarning: `resume_download` is deprecated and will be removed in version 1.0.0. Downloads always resume when possible. If you want to force a new download, use `force_download=True`.\n",
      "  warnings.warn(\n",
      "c:\\Users\\shyams\\Downloads\\projects\\rag with langsmith evaluation\\.venv\\Lib\\site-packages\\huggingface_hub\\file_download.py:1132: FutureWarning: `resume_download` is deprecated and will be removed in version 1.0.0. Downloads always resume when possible. If you want to force a new download, use `force_download=True`.\n",
      "  warnings.warn(\n",
      "c:\\Users\\shyams\\Downloads\\projects\\rag with langsmith evaluation\\.venv\\Lib\\site-packages\\huggingface_hub\\file_download.py:1132: FutureWarning: `resume_download` is deprecated and will be removed in version 1.0.0. Downloads always resume when possible. If you want to force a new download, use `force_download=True`.\n",
      "  warnings.warn(\n"
     ]
    },
    {
     "name": "stdout",
     "output_type": "stream",
     "text": [
      "client=<openai.resources.chat.completions.Completions object at 0x0000026E92AEF650> async_client=<openai.resources.chat.completions.AsyncCompletions object at 0x0000026E919CBEC0> model_name='gpt-4o' temperature=0.2 openai_api_key=SecretStr('**********') openai_proxy=''\n"
     ]
    },
    {
     "name": "stderr",
     "output_type": "stream",
     "text": [
      "c:\\Users\\shyams\\Downloads\\projects\\rag with langsmith evaluation\\.venv\\Lib\\site-packages\\huggingface_hub\\file_download.py:1132: FutureWarning: `resume_download` is deprecated and will be removed in version 1.0.0. Downloads always resume when possible. If you want to force a new download, use `force_download=True`.\n",
      "  warnings.warn(\n"
     ]
    },
    {
     "name": "stdout",
     "output_type": "stream",
     "text": [
      "client=<openai.resources.chat.completions.Completions object at 0x0000026E80DD5EE0> async_client=<openai.resources.chat.completions.AsyncCompletions object at 0x0000026E919A5B50> model_name='gpt-4o' temperature=0.2 openai_api_key=SecretStr('**********') openai_proxy=''\n"
     ]
    },
    {
     "name": "stderr",
     "output_type": "stream",
     "text": [
      "c:\\Users\\shyams\\Downloads\\projects\\rag with langsmith evaluation\\.venv\\Lib\\site-packages\\huggingface_hub\\file_download.py:1132: FutureWarning: `resume_download` is deprecated and will be removed in version 1.0.0. Downloads always resume when possible. If you want to force a new download, use `force_download=True`.\n",
      "  warnings.warn(\n"
     ]
    },
    {
     "name": "stdout",
     "output_type": "stream",
     "text": [
      "client=<openai.resources.chat.completions.Completions object at 0x0000026E80AB7590> async_client=<openai.resources.chat.completions.AsyncCompletions object at 0x0000026E92C1D8E0> model_name='gpt-4o' temperature=0.2 openai_api_key=SecretStr('**********') openai_proxy=''\n",
      "client=<openai.resources.chat.completions.Completions object at 0x0000026E7976ED50> async_client=<openai.resources.chat.completions.AsyncCompletions object at 0x0000026E89B50B60> model_name='gpt-4o' temperature=0.2 openai_api_key=SecretStr('**********') openai_proxy=''\n",
      "client=<openai.resources.chat.completions.Completions object at 0x0000026E80687620> async_client=<openai.resources.chat.completions.AsyncCompletions object at 0x0000026E89B318E0> model_name='gpt-4o' temperature=0.2 openai_api_key=SecretStr('**********') openai_proxy=''\n"
     ]
    },
    {
     "name": "stderr",
     "output_type": "stream",
     "text": [
      "c:\\Users\\shyams\\Downloads\\projects\\rag with langsmith evaluation\\.venv\\Lib\\site-packages\\huggingface_hub\\file_download.py:1132: FutureWarning: `resume_download` is deprecated and will be removed in version 1.0.0. Downloads always resume when possible. If you want to force a new download, use `force_download=True`.\n",
      "  warnings.warn(\n",
      "c:\\Users\\shyams\\Downloads\\projects\\rag with langsmith evaluation\\.venv\\Lib\\site-packages\\huggingface_hub\\file_download.py:1132: FutureWarning: `resume_download` is deprecated and will be removed in version 1.0.0. Downloads always resume when possible. If you want to force a new download, use `force_download=True`.\n",
      "  warnings.warn(\n"
     ]
    },
    {
     "name": "stdout",
     "output_type": "stream",
     "text": [
      "client=<openai.resources.chat.completions.Completions object at 0x0000026E8A707E30> async_client=<openai.resources.chat.completions.AsyncCompletions object at 0x0000026E80C009B0> model_name='gpt-4o' temperature=0.2 openai_api_key=SecretStr('**********') openai_proxy=''\n",
      "client=<openai.resources.chat.completions.Completions object at 0x0000026E81C5A780> async_client=<openai.resources.chat.completions.AsyncCompletions object at 0x0000026E8172E060> model_name='gpt-4o' temperature=0.2 openai_api_key=SecretStr('**********') openai_proxy=''\n",
      "client=<openai.resources.chat.completions.Completions object at 0x0000026E92A480E0> async_client=<openai.resources.chat.completions.AsyncCompletions object at 0x0000026E8212A0F0> model_name='gpt-4o' temperature=0.2 openai_api_key=SecretStr('**********') openai_proxy=''\n"
     ]
    },
    {
     "name": "stderr",
     "output_type": "stream",
     "text": [
      "c:\\Users\\shyams\\Downloads\\projects\\rag with langsmith evaluation\\.venv\\Lib\\site-packages\\huggingface_hub\\file_download.py:1132: FutureWarning: `resume_download` is deprecated and will be removed in version 1.0.0. Downloads always resume when possible. If you want to force a new download, use `force_download=True`.\n",
      "  warnings.warn(\n",
      "c:\\Users\\shyams\\Downloads\\projects\\rag with langsmith evaluation\\.venv\\Lib\\site-packages\\huggingface_hub\\file_download.py:1132: FutureWarning: `resume_download` is deprecated and will be removed in version 1.0.0. Downloads always resume when possible. If you want to force a new download, use `force_download=True`.\n",
      "  warnings.warn(\n",
      "c:\\Users\\shyams\\Downloads\\projects\\rag with langsmith evaluation\\.venv\\Lib\\site-packages\\huggingface_hub\\file_download.py:1132: FutureWarning: `resume_download` is deprecated and will be removed in version 1.0.0. Downloads always resume when possible. If you want to force a new download, use `force_download=True`.\n",
      "  warnings.warn(\n"
     ]
    },
    {
     "name": "stdout",
     "output_type": "stream",
     "text": [
      "client=<openai.resources.chat.completions.Completions object at 0x0000026E8064D3D0> async_client=<openai.resources.chat.completions.AsyncCompletions object at 0x0000026E919FABD0> model_name='gpt-4o' temperature=0.2 openai_api_key=SecretStr('**********') openai_proxy=''\n",
      "client=<openai.resources.chat.completions.Completions object at 0x0000026E808A7E60> async_client=<openai.resources.chat.completions.AsyncCompletions object at 0x0000026E88ED17C0> model_name='gpt-4o' temperature=0.2 openai_api_key=SecretStr('**********') openai_proxy=''\n"
     ]
    },
    {
     "name": "stderr",
     "output_type": "stream",
     "text": [
      "c:\\Users\\shyams\\Downloads\\projects\\rag with langsmith evaluation\\.venv\\Lib\\site-packages\\huggingface_hub\\file_download.py:1132: FutureWarning: `resume_download` is deprecated and will be removed in version 1.0.0. Downloads always resume when possible. If you want to force a new download, use `force_download=True`.\n",
      "  warnings.warn(\n"
     ]
    },
    {
     "name": "stdout",
     "output_type": "stream",
     "text": [
      "client=<openai.resources.chat.completions.Completions object at 0x0000026E919AAC30> async_client=<openai.resources.chat.completions.AsyncCompletions object at 0x0000026E963573E0> model_name='gpt-4o' temperature=0.2 openai_api_key=SecretStr('**********') openai_proxy=''\n"
     ]
    },
    {
     "name": "stderr",
     "output_type": "stream",
     "text": [
      "c:\\Users\\shyams\\Downloads\\projects\\rag with langsmith evaluation\\.venv\\Lib\\site-packages\\huggingface_hub\\file_download.py:1132: FutureWarning: `resume_download` is deprecated and will be removed in version 1.0.0. Downloads always resume when possible. If you want to force a new download, use `force_download=True`.\n",
      "  warnings.warn(\n",
      "c:\\Users\\shyams\\Downloads\\projects\\rag with langsmith evaluation\\.venv\\Lib\\site-packages\\huggingface_hub\\file_download.py:1132: FutureWarning: `resume_download` is deprecated and will be removed in version 1.0.0. Downloads always resume when possible. If you want to force a new download, use `force_download=True`.\n",
      "  warnings.warn(\n"
     ]
    },
    {
     "name": "stdout",
     "output_type": "stream",
     "text": [
      "client=<openai.resources.chat.completions.Completions object at 0x0000026E811F2FC0> async_client=<openai.resources.chat.completions.AsyncCompletions object at 0x0000026E818C60C0> model_name='gpt-4o' temperature=0.2 openai_api_key=SecretStr('**********') openai_proxy=''\n"
     ]
    },
    {
     "name": "stderr",
     "output_type": "stream",
     "text": [
      "c:\\Users\\shyams\\Downloads\\projects\\rag with langsmith evaluation\\.venv\\Lib\\site-packages\\huggingface_hub\\file_download.py:1132: FutureWarning: `resume_download` is deprecated and will be removed in version 1.0.0. Downloads always resume when possible. If you want to force a new download, use `force_download=True`.\n",
      "  warnings.warn(\n",
      "48it [08:12, 10.27s/it]\n"
     ]
    },
    {
     "name": "stdout",
     "output_type": "stream",
     "text": [
      "View the evaluation results for experiment: 'gpt-4-turbo rag eval-1920c64d' at:\n",
      "https://smith.langchain.com/o/b47753b3-6d84-5fa3-b240-64adbbe1c7be/datasets/88a61045-2ca2-47c7-a3b1-91149cab59c1/compare?selectedSessions=bc53719b-a529-441c-84fd-615094ca2bfd\n",
      "\n",
      "\n"
     ]
    },
    {
     "name": "stderr",
     "output_type": "stream",
     "text": [
      "0it [00:00, ?it/s]"
     ]
    },
    {
     "name": "stdout",
     "output_type": "stream",
     "text": [
      "client=<openai.resources.chat.completions.Completions object at 0x0000026E82037E60> async_client=<openai.resources.chat.completions.AsyncCompletions object at 0x0000026E7AAA7530> model_name='gpt-4-turbo' temperature=0.2 openai_api_key=SecretStr('**********') openai_proxy=''\n",
      "client=<openai.resources.chat.completions.Completions object at 0x0000026E80D65A30> async_client=<openai.resources.chat.completions.AsyncCompletions object at 0x0000026E80C33B90> model_name='gpt-4-turbo' temperature=0.2 openai_api_key=SecretStr('**********') openai_proxy=''\n",
      "client=<openai.resources.chat.completions.Completions object at 0x0000026E85A349E0> async_client=<openai.resources.chat.completions.AsyncCompletions object at 0x0000026E81FF5340> model_name='gpt-4-turbo' temperature=0.2 openai_api_key=SecretStr('**********') openai_proxy=''\n",
      "client=<openai.resources.chat.completions.Completions object at 0x0000026E817294F0> async_client=<openai.resources.chat.completions.AsyncCompletions object at 0x0000026E81FF63F0> model_name='gpt-4-turbo' temperature=0.2 openai_api_key=SecretStr('**********') openai_proxy=''\n",
      "client=<openai.resources.chat.completions.Completions object at 0x0000026E85A36570> async_client=<openai.resources.chat.completions.AsyncCompletions object at 0x0000026E8A3DD940> model_name='gpt-4-turbo' temperature=0.2 openai_api_key=SecretStr('**********') openai_proxy=''\n",
      "client=<openai.resources.chat.completions.Completions object at 0x0000026E81729D30> async_client=<openai.resources.chat.completions.AsyncCompletions object at 0x0000026E780EE360> model_name='gpt-4-turbo' temperature=0.2 openai_api_key=SecretStr('**********') openai_proxy=''\n",
      "client=<openai.resources.chat.completions.Completions object at 0x0000026E8216D130> async_client=<openai.resources.chat.completions.AsyncCompletions object at 0x0000026E85D4C470> model_name='gpt-4-turbo' temperature=0.2 openai_api_key=SecretStr('**********') openai_proxy=''\n",
      "client=<openai.resources.chat.completions.Completions object at 0x0000026E8216FAD0> async_client=<openai.resources.chat.completions.AsyncCompletions object at 0x0000026E8C0F4CE0> model_name='gpt-4-turbo' temperature=0.2 openai_api_key=SecretStr('**********') openai_proxy=''\n",
      "client=<openai.resources.chat.completions.Completions object at 0x0000026E85822390> async_client=<openai.resources.chat.completions.AsyncCompletions object at 0x0000026E822437A0> model_name='gpt-4-turbo' temperature=0.2 openai_api_key=SecretStr('**********') openai_proxy=''\n",
      "client=<openai.resources.chat.completions.Completions object at 0x0000026E80B97E90> async_client=<openai.resources.chat.completions.AsyncCompletions object at 0x0000026E81833140> model_name='gpt-4-turbo' temperature=0.2 openai_api_key=SecretStr('**********') openai_proxy=''\n",
      "client=<openai.resources.chat.completions.Completions object at 0x0000026E858222A0> async_client=<openai.resources.chat.completions.AsyncCompletions object at 0x0000026E81833830> model_name='gpt-4-turbo' temperature=0.2 openai_api_key=SecretStr('**********') openai_proxy=''\n",
      "client=<openai.resources.chat.completions.Completions object at 0x0000026E80E3BA40> async_client=<openai.resources.chat.completions.AsyncCompletions object at 0x0000026E81216B40> model_name='gpt-4-turbo' temperature=0.2 openai_api_key=SecretStr('**********') openai_proxy=''\n"
     ]
    },
    {
     "name": "stderr",
     "output_type": "stream",
     "text": [
      "c:\\Users\\shyams\\Downloads\\projects\\rag with langsmith evaluation\\.venv\\Lib\\site-packages\\huggingface_hub\\file_download.py:1132: FutureWarning: `resume_download` is deprecated and will be removed in version 1.0.0. Downloads always resume when possible. If you want to force a new download, use `force_download=True`.\n",
      "  warnings.warn(\n",
      "c:\\Users\\shyams\\Downloads\\projects\\rag with langsmith evaluation\\.venv\\Lib\\site-packages\\huggingface_hub\\file_download.py:1132: FutureWarning: `resume_download` is deprecated and will be removed in version 1.0.0. Downloads always resume when possible. If you want to force a new download, use `force_download=True`.\n",
      "  warnings.warn(\n"
     ]
    },
    {
     "name": "stdout",
     "output_type": "stream",
     "text": [
      "client=<openai.resources.chat.completions.Completions object at 0x0000026E81D2DEE0> async_client=<openai.resources.chat.completions.AsyncCompletions object at 0x0000026E963F80B0> model_name='gpt-4-turbo' temperature=0.2 openai_api_key=SecretStr('**********') openai_proxy=''\n",
      "client=<openai.resources.chat.completions.Completions object at 0x0000026E89BD5910> async_client=<openai.resources.chat.completions.AsyncCompletions object at 0x0000026E7810BAA0> model_name='gpt-4-turbo' temperature=0.2 openai_api_key=SecretStr('**********') openai_proxy=''\n"
     ]
    },
    {
     "name": "stderr",
     "output_type": "stream",
     "text": [
      "c:\\Users\\shyams\\Downloads\\projects\\rag with langsmith evaluation\\.venv\\Lib\\site-packages\\huggingface_hub\\file_download.py:1132: FutureWarning: `resume_download` is deprecated and will be removed in version 1.0.0. Downloads always resume when possible. If you want to force a new download, use `force_download=True`.\n",
      "  warnings.warn(\n",
      "c:\\Users\\shyams\\Downloads\\projects\\rag with langsmith evaluation\\.venv\\Lib\\site-packages\\huggingface_hub\\file_download.py:1132: FutureWarning: `resume_download` is deprecated and will be removed in version 1.0.0. Downloads always resume when possible. If you want to force a new download, use `force_download=True`.\n",
      "  warnings.warn(\n"
     ]
    },
    {
     "name": "stdout",
     "output_type": "stream",
     "text": [
      "client=<openai.resources.chat.completions.Completions object at 0x0000026E89B31250> async_client=<openai.resources.chat.completions.AsyncCompletions object at 0x0000026E839308C0> model_name='gpt-4-turbo' temperature=0.2 openai_api_key=SecretStr('**********') openai_proxy=''\n",
      "client=<openai.resources.chat.completions.Completions object at 0x0000026E81B73B90> async_client=<openai.resources.chat.completions.AsyncCompletions object at 0x0000026E96632780> model_name='gpt-4-turbo' temperature=0.2 openai_api_key=SecretStr('**********') openai_proxy=''\n",
      "client=<openai.resources.chat.completions.Completions object at 0x0000026E96696540> async_client=<openai.resources.chat.completions.AsyncCompletions object at 0x0000026E806766C0> model_name='gpt-4-turbo' temperature=0.2 openai_api_key=SecretStr('**********') openai_proxy=''\n",
      "client=<openai.resources.chat.completions.Completions object at 0x0000026E80BBA030> async_client=<openai.resources.chat.completions.AsyncCompletions object at 0x0000026E807EBFB0> model_name='gpt-4-turbo' temperature=0.2 openai_api_key=SecretStr('**********') openai_proxy=''\n"
     ]
    },
    {
     "name": "stderr",
     "output_type": "stream",
     "text": [
      "c:\\Users\\shyams\\Downloads\\projects\\rag with langsmith evaluation\\.venv\\Lib\\site-packages\\huggingface_hub\\file_download.py:1132: FutureWarning: `resume_download` is deprecated and will be removed in version 1.0.0. Downloads always resume when possible. If you want to force a new download, use `force_download=True`.\n",
      "  warnings.warn(\n"
     ]
    },
    {
     "name": "stdout",
     "output_type": "stream",
     "text": [
      "client=<openai.resources.chat.completions.Completions object at 0x0000026E92C1D010> async_client=<openai.resources.chat.completions.AsyncCompletions object at 0x0000026E919AB350> model_name='gpt-4-turbo' temperature=0.2 openai_api_key=SecretStr('**********') openai_proxy=''\n"
     ]
    },
    {
     "name": "stderr",
     "output_type": "stream",
     "text": [
      "c:\\Users\\shyams\\Downloads\\projects\\rag with langsmith evaluation\\.venv\\Lib\\site-packages\\huggingface_hub\\file_download.py:1132: FutureWarning: `resume_download` is deprecated and will be removed in version 1.0.0. Downloads always resume when possible. If you want to force a new download, use `force_download=True`.\n",
      "  warnings.warn(\n",
      "c:\\Users\\shyams\\Downloads\\projects\\rag with langsmith evaluation\\.venv\\Lib\\site-packages\\huggingface_hub\\file_download.py:1132: FutureWarning: `resume_download` is deprecated and will be removed in version 1.0.0. Downloads always resume when possible. If you want to force a new download, use `force_download=True`.\n",
      "  warnings.warn(\n"
     ]
    },
    {
     "name": "stdout",
     "output_type": "stream",
     "text": [
      "client=<openai.resources.chat.completions.Completions object at 0x0000026E803C2510> async_client=<openai.resources.chat.completions.AsyncCompletions object at 0x0000026E81C5A4E0> model_name='gpt-4-turbo' temperature=0.2 openai_api_key=SecretStr('**********') openai_proxy=''\n",
      "client=<openai.resources.chat.completions.Completions object at 0x0000026E803C2780> async_client=<openai.resources.chat.completions.AsyncCompletions object at 0x0000026E7F5FDD90> model_name='gpt-4-turbo' temperature=0.2 openai_api_key=SecretStr('**********') openai_proxy=''\n",
      "client=<openai.resources.chat.completions.Completions object at 0x0000026E80BE6330> async_client=<openai.resources.chat.completions.AsyncCompletions object at 0x0000026E88F3BA70> model_name='gpt-4-turbo' temperature=0.2 openai_api_key=SecretStr('**********') openai_proxy=''\n",
      "client=<openai.resources.chat.completions.Completions object at 0x0000026E808B0500> async_client=<openai.resources.chat.completions.AsyncCompletions object at 0x0000026E818A5940> model_name='gpt-4-turbo' temperature=0.2 openai_api_key=SecretStr('**********') openai_proxy=''\n",
      "client=<openai.resources.chat.completions.Completions object at 0x0000026E85A37DD0> async_client=<openai.resources.chat.completions.AsyncCompletions object at 0x0000026E96034620> model_name='gpt-4-turbo' temperature=0.2 openai_api_key=SecretStr('**********') openai_proxy=''\n"
     ]
    },
    {
     "name": "stderr",
     "output_type": "stream",
     "text": [
      "c:\\Users\\shyams\\Downloads\\projects\\rag with langsmith evaluation\\.venv\\Lib\\site-packages\\huggingface_hub\\file_download.py:1132: FutureWarning: `resume_download` is deprecated and will be removed in version 1.0.0. Downloads always resume when possible. If you want to force a new download, use `force_download=True`.\n",
      "  warnings.warn(\n"
     ]
    },
    {
     "name": "stdout",
     "output_type": "stream",
     "text": [
      "client=<openai.resources.chat.completions.Completions object at 0x0000026E8A745A90> async_client=<openai.resources.chat.completions.AsyncCompletions object at 0x0000026E92A976B0> model_name='gpt-4-turbo' temperature=0.2 openai_api_key=SecretStr('**********') openai_proxy=''\n",
      "client=<openai.resources.chat.completions.Completions object at 0x0000026E80D8A960> async_client=<openai.resources.chat.completions.AsyncCompletions object at 0x0000026E8202EDB0> model_name='gpt-4-turbo' temperature=0.2 openai_api_key=SecretStr('**********') openai_proxy=''\n"
     ]
    },
    {
     "name": "stderr",
     "output_type": "stream",
     "text": [
      "c:\\Users\\shyams\\Downloads\\projects\\rag with langsmith evaluation\\.venv\\Lib\\site-packages\\huggingface_hub\\file_download.py:1132: FutureWarning: `resume_download` is deprecated and will be removed in version 1.0.0. Downloads always resume when possible. If you want to force a new download, use `force_download=True`.\n",
      "  warnings.warn(\n"
     ]
    },
    {
     "name": "stdout",
     "output_type": "stream",
     "text": [
      "client=<openai.resources.chat.completions.Completions object at 0x0000026E8A6D5EE0> async_client=<openai.resources.chat.completions.AsyncCompletions object at 0x0000026E811E5CD0> model_name='gpt-4-turbo' temperature=0.2 openai_api_key=SecretStr('**********') openai_proxy=''\n",
      "client=<openai.resources.chat.completions.Completions object at 0x0000026E91A2A870> async_client=<openai.resources.chat.completions.AsyncCompletions object at 0x0000026E8A697080> model_name='gpt-4-turbo' temperature=0.2 openai_api_key=SecretStr('**********') openai_proxy=''\n",
      "client=<openai.resources.chat.completions.Completions object at 0x0000026E95C84200> async_client=<openai.resources.chat.completions.AsyncCompletions object at 0x0000026E7810BF80> model_name='gpt-4-turbo' temperature=0.2 openai_api_key=SecretStr('**********') openai_proxy=''\n",
      "client=<openai.resources.chat.completions.Completions object at 0x0000026E859DB0B0> async_client=<openai.resources.chat.completions.AsyncCompletions object at 0x0000026E809160C0> model_name='gpt-4-turbo' temperature=0.2 openai_api_key=SecretStr('**********') openai_proxy=''\n"
     ]
    },
    {
     "name": "stderr",
     "output_type": "stream",
     "text": [
      "c:\\Users\\shyams\\Downloads\\projects\\rag with langsmith evaluation\\.venv\\Lib\\site-packages\\huggingface_hub\\file_download.py:1132: FutureWarning: `resume_download` is deprecated and will be removed in version 1.0.0. Downloads always resume when possible. If you want to force a new download, use `force_download=True`.\n",
      "  warnings.warn(\n",
      "c:\\Users\\shyams\\Downloads\\projects\\rag with langsmith evaluation\\.venv\\Lib\\site-packages\\huggingface_hub\\file_download.py:1132: FutureWarning: `resume_download` is deprecated and will be removed in version 1.0.0. Downloads always resume when possible. If you want to force a new download, use `force_download=True`.\n",
      "  warnings.warn(\n"
     ]
    },
    {
     "name": "stdout",
     "output_type": "stream",
     "text": [
      "client=<openai.resources.chat.completions.Completions object at 0x0000026E806248F0> async_client=<openai.resources.chat.completions.AsyncCompletions object at 0x0000026E89B4C530> model_name='gpt-4-turbo' temperature=0.2 openai_api_key=SecretStr('**********') openai_proxy=''\n",
      "client=<openai.resources.chat.completions.Completions object at 0x0000026E7F6C39E0> async_client=<openai.resources.chat.completions.AsyncCompletions object at 0x0000026E4F003110> model_name='gpt-4-turbo' temperature=0.2 openai_api_key=SecretStr('**********') openai_proxy=''\n",
      "client=<openai.resources.chat.completions.Completions object at 0x0000026E85A26390> async_client=<openai.resources.chat.completions.AsyncCompletions object at 0x0000026E81B036B0> model_name='gpt-4-turbo' temperature=0.2 openai_api_key=SecretStr('**********') openai_proxy=''\n",
      "client=<openai.resources.chat.completions.Completions object at 0x0000026E838FD010> async_client=<openai.resources.chat.completions.AsyncCompletions object at 0x0000026E89BAFD40> model_name='gpt-4-turbo' temperature=0.2 openai_api_key=SecretStr('**********') openai_proxy=''\n",
      "client=<openai.resources.chat.completions.Completions object at 0x0000026E838FF980> async_client=<openai.resources.chat.completions.AsyncCompletions object at 0x0000026E80DD44D0> model_name='gpt-4-turbo' temperature=0.2 openai_api_key=SecretStr('**********') openai_proxy=''\n",
      "client=<openai.resources.chat.completions.Completions object at 0x0000026E9357C530> async_client=<openai.resources.chat.completions.AsyncCompletions object at 0x0000026E80DD7C80> model_name='gpt-4-turbo' temperature=0.2 openai_api_key=SecretStr('**********') openai_proxy=''\n"
     ]
    },
    {
     "name": "stderr",
     "output_type": "stream",
     "text": [
      "c:\\Users\\shyams\\Downloads\\projects\\rag with langsmith evaluation\\.venv\\Lib\\site-packages\\huggingface_hub\\file_download.py:1132: FutureWarning: `resume_download` is deprecated and will be removed in version 1.0.0. Downloads always resume when possible. If you want to force a new download, use `force_download=True`.\n",
      "  warnings.warn(\n",
      "c:\\Users\\shyams\\Downloads\\projects\\rag with langsmith evaluation\\.venv\\Lib\\site-packages\\huggingface_hub\\file_download.py:1132: FutureWarning: `resume_download` is deprecated and will be removed in version 1.0.0. Downloads always resume when possible. If you want to force a new download, use `force_download=True`.\n",
      "  warnings.warn(\n",
      "c:\\Users\\shyams\\Downloads\\projects\\rag with langsmith evaluation\\.venv\\Lib\\site-packages\\huggingface_hub\\file_download.py:1132: FutureWarning: `resume_download` is deprecated and will be removed in version 1.0.0. Downloads always resume when possible. If you want to force a new download, use `force_download=True`.\n",
      "  warnings.warn(\n"
     ]
    },
    {
     "name": "stdout",
     "output_type": "stream",
     "text": [
      "client=<openai.resources.chat.completions.Completions object at 0x0000026E80AB5EE0> async_client=<openai.resources.chat.completions.AsyncCompletions object at 0x0000026E82072ED0> model_name='gpt-4-turbo' temperature=0.2 openai_api_key=SecretStr('**********') openai_proxy=''\n"
     ]
    },
    {
     "name": "stderr",
     "output_type": "stream",
     "text": [
      "c:\\Users\\shyams\\Downloads\\projects\\rag with langsmith evaluation\\.venv\\Lib\\site-packages\\huggingface_hub\\file_download.py:1132: FutureWarning: `resume_download` is deprecated and will be removed in version 1.0.0. Downloads always resume when possible. If you want to force a new download, use `force_download=True`.\n",
      "  warnings.warn(\n"
     ]
    },
    {
     "name": "stdout",
     "output_type": "stream",
     "text": [
      "client=<openai.resources.chat.completions.Completions object at 0x0000026E88F47350> async_client=<openai.resources.chat.completions.AsyncCompletions object at 0x0000026E9355A5A0> model_name='gpt-4-turbo' temperature=0.2 openai_api_key=SecretStr('**********') openai_proxy=''\n"
     ]
    },
    {
     "name": "stderr",
     "output_type": "stream",
     "text": [
      "c:\\Users\\shyams\\Downloads\\projects\\rag with langsmith evaluation\\.venv\\Lib\\site-packages\\huggingface_hub\\file_download.py:1132: FutureWarning: `resume_download` is deprecated and will be removed in version 1.0.0. Downloads always resume when possible. If you want to force a new download, use `force_download=True`.\n",
      "  warnings.warn(\n"
     ]
    },
    {
     "name": "stdout",
     "output_type": "stream",
     "text": [
      "client=<openai.resources.chat.completions.Completions object at 0x0000026E806F7770> async_client=<openai.resources.chat.completions.AsyncCompletions object at 0x0000026E85A34170> model_name='gpt-4-turbo' temperature=0.2 openai_api_key=SecretStr('**********') openai_proxy=''\n"
     ]
    },
    {
     "name": "stderr",
     "output_type": "stream",
     "text": [
      "c:\\Users\\shyams\\Downloads\\projects\\rag with langsmith evaluation\\.venv\\Lib\\site-packages\\huggingface_hub\\file_download.py:1132: FutureWarning: `resume_download` is deprecated and will be removed in version 1.0.0. Downloads always resume when possible. If you want to force a new download, use `force_download=True`.\n",
      "  warnings.warn(\n"
     ]
    },
    {
     "name": "stdout",
     "output_type": "stream",
     "text": [
      "client=<openai.resources.chat.completions.Completions object at 0x0000026E806F5EE0> async_client=<openai.resources.chat.completions.AsyncCompletions object at 0x0000026E88E73080> model_name='gpt-4-turbo' temperature=0.2 openai_api_key=SecretStr('**********') openai_proxy=''\n",
      "client=<openai.resources.chat.completions.Completions object at 0x0000026E8A696600> async_client=<openai.resources.chat.completions.AsyncCompletions object at 0x0000026E816B4980> model_name='gpt-4-turbo' temperature=0.2 openai_api_key=SecretStr('**********') openai_proxy=''\n",
      "client=<openai.resources.chat.completions.Completions object at 0x0000026E95ADB9B0> async_client=<openai.resources.chat.completions.AsyncCompletions object at 0x0000026E7979FC80> model_name='gpt-4-turbo' temperature=0.2 openai_api_key=SecretStr('**********') openai_proxy=''\n"
     ]
    },
    {
     "name": "stderr",
     "output_type": "stream",
     "text": [
      "c:\\Users\\shyams\\Downloads\\projects\\rag with langsmith evaluation\\.venv\\Lib\\site-packages\\huggingface_hub\\file_download.py:1132: FutureWarning: `resume_download` is deprecated and will be removed in version 1.0.0. Downloads always resume when possible. If you want to force a new download, use `force_download=True`.\n",
      "  warnings.warn(\n",
      "c:\\Users\\shyams\\Downloads\\projects\\rag with langsmith evaluation\\.venv\\Lib\\site-packages\\huggingface_hub\\file_download.py:1132: FutureWarning: `resume_download` is deprecated and will be removed in version 1.0.0. Downloads always resume when possible. If you want to force a new download, use `force_download=True`.\n",
      "  warnings.warn(\n",
      "c:\\Users\\shyams\\Downloads\\projects\\rag with langsmith evaluation\\.venv\\Lib\\site-packages\\huggingface_hub\\file_download.py:1132: FutureWarning: `resume_download` is deprecated and will be removed in version 1.0.0. Downloads always resume when possible. If you want to force a new download, use `force_download=True`.\n",
      "  warnings.warn(\n"
     ]
    },
    {
     "name": "stdout",
     "output_type": "stream",
     "text": [
      "client=<openai.resources.chat.completions.Completions object at 0x0000026E8A7312B0> async_client=<openai.resources.chat.completions.AsyncCompletions object at 0x0000026E9352DBE0> model_name='gpt-4-turbo' temperature=0.2 openai_api_key=SecretStr('**********') openai_proxy=''\n",
      "client=<openai.resources.chat.completions.Completions object at 0x0000026E8063B770> async_client=<openai.resources.chat.completions.AsyncCompletions object at 0x0000026E88EFD910> model_name='gpt-4-turbo' temperature=0.2 openai_api_key=SecretStr('**********') openai_proxy=''\n",
      "client=<openai.resources.chat.completions.Completions object at 0x0000026E806EB320> async_client=<openai.resources.chat.completions.AsyncCompletions object at 0x0000026E80A9B8C0> model_name='gpt-4-turbo' temperature=0.2 openai_api_key=SecretStr('**********') openai_proxy=''\n",
      "client=<openai.resources.chat.completions.Completions object at 0x0000026E92A07050> async_client=<openai.resources.chat.completions.AsyncCompletions object at 0x0000026E81E51280> model_name='gpt-4-turbo' temperature=0.2 openai_api_key=SecretStr('**********') openai_proxy=''\n",
      "client=<openai.resources.chat.completions.Completions object at 0x0000026E8064D640> async_client=<openai.resources.chat.completions.AsyncCompletions object at 0x0000026E8A75FB90> model_name='gpt-4-turbo' temperature=0.2 openai_api_key=SecretStr('**********') openai_proxy=''\n",
      "client=<openai.resources.chat.completions.Completions object at 0x0000026E8064DEE0> async_client=<openai.resources.chat.completions.AsyncCompletions object at 0x0000026E7810B470> model_name='gpt-4-turbo' temperature=0.2 openai_api_key=SecretStr('**********') openai_proxy=''\n"
     ]
    },
    {
     "name": "stderr",
     "output_type": "stream",
     "text": [
      "c:\\Users\\shyams\\Downloads\\projects\\rag with langsmith evaluation\\.venv\\Lib\\site-packages\\huggingface_hub\\file_download.py:1132: FutureWarning: `resume_download` is deprecated and will be removed in version 1.0.0. Downloads always resume when possible. If you want to force a new download, use `force_download=True`.\n",
      "  warnings.warn(\n",
      "c:\\Users\\shyams\\Downloads\\projects\\rag with langsmith evaluation\\.venv\\Lib\\site-packages\\huggingface_hub\\file_download.py:1132: FutureWarning: `resume_download` is deprecated and will be removed in version 1.0.0. Downloads always resume when possible. If you want to force a new download, use `force_download=True`.\n",
      "  warnings.warn(\n",
      "c:\\Users\\shyams\\Downloads\\projects\\rag with langsmith evaluation\\.venv\\Lib\\site-packages\\huggingface_hub\\file_download.py:1132: FutureWarning: `resume_download` is deprecated and will be removed in version 1.0.0. Downloads always resume when possible. If you want to force a new download, use `force_download=True`.\n",
      "  warnings.warn(\n",
      "48it [10:11, 12.74s/it]\n"
     ]
    },
    {
     "name": "stdout",
     "output_type": "stream",
     "text": [
      "View the evaluation results for experiment: 'gpt-3.5-turbo-0125 rag eval-7c2ee3fa' at:\n",
      "https://smith.langchain.com/o/b47753b3-6d84-5fa3-b240-64adbbe1c7be/datasets/88a61045-2ca2-47c7-a3b1-91149cab59c1/compare?selectedSessions=6aa9416a-617b-4659-9a4c-2a1134bd5625\n",
      "\n",
      "\n"
     ]
    },
    {
     "name": "stderr",
     "output_type": "stream",
     "text": [
      "0it [00:00, ?it/s]"
     ]
    },
    {
     "name": "stdout",
     "output_type": "stream",
     "text": [
      "client=<openai.resources.chat.completions.Completions object at 0x0000026E88E61F10> async_client=<openai.resources.chat.completions.AsyncCompletions object at 0x0000026E80AD5D30> model_name='gpt-3.5-turbo-0125' temperature=0.2 openai_api_key=SecretStr('**********') openai_proxy=''\n",
      "client=<openai.resources.chat.completions.Completions object at 0x0000026E88E61700> async_client=<openai.resources.chat.completions.AsyncCompletions object at 0x0000026E83934140> model_name='gpt-3.5-turbo-0125' temperature=0.2 openai_api_key=SecretStr('**********') openai_proxy=''\n",
      "client=<openai.resources.chat.completions.Completions object at 0x0000026E80DD75C0> async_client=<openai.resources.chat.completions.AsyncCompletions object at 0x0000026E92A29EB0> model_name='gpt-3.5-turbo-0125' temperature=0.2 openai_api_key=SecretStr('**********') openai_proxy=''\n",
      "client=<openai.resources.chat.completions.Completions object at 0x0000026E818ACE00> async_client=<openai.resources.chat.completions.AsyncCompletions object at 0x0000026E8212B8C0> model_name='gpt-3.5-turbo-0125' temperature=0.2 openai_api_key=SecretStr('**********') openai_proxy=''\n",
      "client=<openai.resources.chat.completions.Completions object at 0x0000026E7F6FC920> async_client=<openai.resources.chat.completions.AsyncCompletions object at 0x0000026E859D7B30> model_name='gpt-3.5-turbo-0125' temperature=0.2 openai_api_key=SecretStr('**********') openai_proxy=''\n",
      "client=<openai.resources.chat.completions.Completions object at 0x0000026E8063A4E0> async_client=<openai.resources.chat.completions.AsyncCompletions object at 0x0000026E816B6450> model_name='gpt-3.5-turbo-0125' temperature=0.2 openai_api_key=SecretStr('**********') openai_proxy=''\n",
      "client=<openai.resources.chat.completions.Completions object at 0x0000026E78117A10> async_client=<openai.resources.chat.completions.AsyncCompletions object at 0x0000026E935A4170> model_name='gpt-3.5-turbo-0125' temperature=0.2 openai_api_key=SecretStr('**********') openai_proxy=''\n",
      "client=<openai.resources.chat.completions.Completions object at 0x0000026E7976C2F0> async_client=<openai.resources.chat.completions.AsyncCompletions object at 0x0000026E4DF8A2A0> model_name='gpt-3.5-turbo-0125' temperature=0.2 openai_api_key=SecretStr('**********') openai_proxy=''\n",
      "client=<openai.resources.chat.completions.Completions object at 0x0000026E81775FA0> async_client=<openai.resources.chat.completions.AsyncCompletions object at 0x0000026E8A6A1490> model_name='gpt-3.5-turbo-0125' temperature=0.2 openai_api_key=SecretStr('**********') openai_proxy=''\n",
      "client=<openai.resources.chat.completions.Completions object at 0x0000026E7F5FF1D0> async_client=<openai.resources.chat.completions.AsyncCompletions object at 0x0000026E8A6A4260> model_name='gpt-3.5-turbo-0125' temperature=0.2 openai_api_key=SecretStr('**********') openai_proxy=''\n",
      "client=<openai.resources.chat.completions.Completions object at 0x0000026E80E04CB0> async_client=<openai.resources.chat.completions.AsyncCompletions object at 0x0000026E9352AAB0> model_name='gpt-3.5-turbo-0125' temperature=0.2 openai_api_key=SecretStr('**********') openai_proxy=''\n",
      "client=<openai.resources.chat.completions.Completions object at 0x0000026E80639610> async_client=<openai.resources.chat.completions.AsyncCompletions object at 0x0000026E92A973E0> model_name='gpt-3.5-turbo-0125' temperature=0.2 openai_api_key=SecretStr('**********') openai_proxy=''\n"
     ]
    },
    {
     "name": "stderr",
     "output_type": "stream",
     "text": [
      "c:\\Users\\shyams\\Downloads\\projects\\rag with langsmith evaluation\\.venv\\Lib\\site-packages\\huggingface_hub\\file_download.py:1132: FutureWarning: `resume_download` is deprecated and will be removed in version 1.0.0. Downloads always resume when possible. If you want to force a new download, use `force_download=True`.\n",
      "  warnings.warn(\n",
      "c:\\Users\\shyams\\Downloads\\projects\\rag with langsmith evaluation\\.venv\\Lib\\site-packages\\huggingface_hub\\file_download.py:1132: FutureWarning: `resume_download` is deprecated and will be removed in version 1.0.0. Downloads always resume when possible. If you want to force a new download, use `force_download=True`.\n",
      "  warnings.warn(\n",
      "c:\\Users\\shyams\\Downloads\\projects\\rag with langsmith evaluation\\.venv\\Lib\\site-packages\\huggingface_hub\\file_download.py:1132: FutureWarning: `resume_download` is deprecated and will be removed in version 1.0.0. Downloads always resume when possible. If you want to force a new download, use `force_download=True`.\n",
      "  warnings.warn(\n",
      "c:\\Users\\shyams\\Downloads\\projects\\rag with langsmith evaluation\\.venv\\Lib\\site-packages\\huggingface_hub\\file_download.py:1132: FutureWarning: `resume_download` is deprecated and will be removed in version 1.0.0. Downloads always resume when possible. If you want to force a new download, use `force_download=True`.\n",
      "  warnings.warn(\n",
      "c:\\Users\\shyams\\Downloads\\projects\\rag with langsmith evaluation\\.venv\\Lib\\site-packages\\huggingface_hub\\file_download.py:1132: FutureWarning: `resume_download` is deprecated and will be removed in version 1.0.0. Downloads always resume when possible. If you want to force a new download, use `force_download=True`.\n",
      "  warnings.warn(\n",
      "c:\\Users\\shyams\\Downloads\\projects\\rag with langsmith evaluation\\.venv\\Lib\\site-packages\\huggingface_hub\\file_download.py:1132: FutureWarning: `resume_download` is deprecated and will be removed in version 1.0.0. Downloads always resume when possible. If you want to force a new download, use `force_download=True`.\n",
      "  warnings.warn(\n"
     ]
    },
    {
     "name": "stdout",
     "output_type": "stream",
     "text": [
      "client=<openai.resources.chat.completions.Completions object at 0x0000026E85CF4410> async_client=<openai.resources.chat.completions.AsyncCompletions object at 0x0000026E89BE42F0> model_name='gpt-3.5-turbo-0125' temperature=0.2 openai_api_key=SecretStr('**********') openai_proxy=''\n",
      "client=<openai.resources.chat.completions.Completions object at 0x0000026E85CF7E60> async_client=<openai.resources.chat.completions.AsyncCompletions object at 0x0000026E8A3B4D40> model_name='gpt-3.5-turbo-0125' temperature=0.2 openai_api_key=SecretStr('**********') openai_proxy=''\n"
     ]
    },
    {
     "name": "stderr",
     "output_type": "stream",
     "text": [
      "c:\\Users\\shyams\\Downloads\\projects\\rag with langsmith evaluation\\.venv\\Lib\\site-packages\\huggingface_hub\\file_download.py:1132: FutureWarning: `resume_download` is deprecated and will be removed in version 1.0.0. Downloads always resume when possible. If you want to force a new download, use `force_download=True`.\n",
      "  warnings.warn(\n",
      "c:\\Users\\shyams\\Downloads\\projects\\rag with langsmith evaluation\\.venv\\Lib\\site-packages\\huggingface_hub\\file_download.py:1132: FutureWarning: `resume_download` is deprecated and will be removed in version 1.0.0. Downloads always resume when possible. If you want to force a new download, use `force_download=True`.\n",
      "  warnings.warn(\n"
     ]
    },
    {
     "name": "stdout",
     "output_type": "stream",
     "text": [
      "client=<openai.resources.chat.completions.Completions object at 0x0000026E80DA4D10> async_client=<openai.resources.chat.completions.AsyncCompletions object at 0x0000026E81832990> model_name='gpt-3.5-turbo-0125' temperature=0.2 openai_api_key=SecretStr('**********') openai_proxy=''\n",
      "client=<openai.resources.chat.completions.Completions object at 0x0000026E8A3554C0> async_client=<openai.resources.chat.completions.AsyncCompletions object at 0x0000026E80DA6900> model_name='gpt-3.5-turbo-0125' temperature=0.2 openai_api_key=SecretStr('**********') openai_proxy=''\n"
     ]
    },
    {
     "name": "stderr",
     "output_type": "stream",
     "text": [
      "c:\\Users\\shyams\\Downloads\\projects\\rag with langsmith evaluation\\.venv\\Lib\\site-packages\\huggingface_hub\\file_download.py:1132: FutureWarning: `resume_download` is deprecated and will be removed in version 1.0.0. Downloads always resume when possible. If you want to force a new download, use `force_download=True`.\n",
      "  warnings.warn(\n",
      "c:\\Users\\shyams\\Downloads\\projects\\rag with langsmith evaluation\\.venv\\Lib\\site-packages\\huggingface_hub\\file_download.py:1132: FutureWarning: `resume_download` is deprecated and will be removed in version 1.0.0. Downloads always resume when possible. If you want to force a new download, use `force_download=True`.\n",
      "  warnings.warn(\n"
     ]
    },
    {
     "name": "stdout",
     "output_type": "stream",
     "text": [
      "client=<openai.resources.chat.completions.Completions object at 0x0000026E85A274D0> async_client=<openai.resources.chat.completions.AsyncCompletions object at 0x0000026E7AACA330> model_name='gpt-3.5-turbo-0125' temperature=0.2 openai_api_key=SecretStr('**********') openai_proxy=''\n"
     ]
    },
    {
     "name": "stderr",
     "output_type": "stream",
     "text": [
      "c:\\Users\\shyams\\Downloads\\projects\\rag with langsmith evaluation\\.venv\\Lib\\site-packages\\huggingface_hub\\file_download.py:1132: FutureWarning: `resume_download` is deprecated and will be removed in version 1.0.0. Downloads always resume when possible. If you want to force a new download, use `force_download=True`.\n",
      "  warnings.warn(\n"
     ]
    },
    {
     "name": "stdout",
     "output_type": "stream",
     "text": [
      "client=<openai.resources.chat.completions.Completions object at 0x0000026E8599B6E0> async_client=<openai.resources.chat.completions.AsyncCompletions object at 0x0000026E80675FD0> model_name='gpt-3.5-turbo-0125' temperature=0.2 openai_api_key=SecretStr('**********') openai_proxy=''\n"
     ]
    },
    {
     "name": "stderr",
     "output_type": "stream",
     "text": [
      "c:\\Users\\shyams\\Downloads\\projects\\rag with langsmith evaluation\\.venv\\Lib\\site-packages\\huggingface_hub\\file_download.py:1132: FutureWarning: `resume_download` is deprecated and will be removed in version 1.0.0. Downloads always resume when possible. If you want to force a new download, use `force_download=True`.\n",
      "  warnings.warn(\n"
     ]
    },
    {
     "name": "stdout",
     "output_type": "stream",
     "text": [
      "client=<openai.resources.chat.completions.Completions object at 0x0000026E89B66930> async_client=<openai.resources.chat.completions.AsyncCompletions object at 0x0000026E81B89D30> model_name='gpt-3.5-turbo-0125' temperature=0.2 openai_api_key=SecretStr('**********') openai_proxy=''\n",
      "client=<openai.resources.chat.completions.Completions object at 0x0000026E80909850> async_client=<openai.resources.chat.completions.AsyncCompletions object at 0x0000026E8C222CC0> model_name='gpt-3.5-turbo-0125' temperature=0.2 openai_api_key=SecretStr('**********') openai_proxy=''\n",
      "client=<openai.resources.chat.completions.Completions object at 0x0000026E816AA510> async_client=<openai.resources.chat.completions.AsyncCompletions object at 0x0000026E4EF6B650> model_name='gpt-3.5-turbo-0125' temperature=0.2 openai_api_key=SecretStr('**********') openai_proxy=''\n",
      "client=<openai.resources.chat.completions.Completions object at 0x0000026EAB5D70E0> async_client=<openai.resources.chat.completions.AsyncCompletions object at 0x0000026E82455E80> model_name='gpt-3.5-turbo-0125' temperature=0.2 openai_api_key=SecretStr('**********') openai_proxy=''\n",
      "client=<openai.resources.chat.completions.Completions object at 0x0000026E81214EF0> async_client=<openai.resources.chat.completions.AsyncCompletions object at 0x0000026E794589B0> model_name='gpt-3.5-turbo-0125' temperature=0.2 openai_api_key=SecretStr('**********') openai_proxy=''\n",
      "client=<openai.resources.chat.completions.Completions object at 0x0000026E85998170> async_client=<openai.resources.chat.completions.AsyncCompletions object at 0x0000026E8A3F65D0> model_name='gpt-3.5-turbo-0125' temperature=0.2 openai_api_key=SecretStr('**********') openai_proxy=''\n"
     ]
    },
    {
     "name": "stderr",
     "output_type": "stream",
     "text": [
      "c:\\Users\\shyams\\Downloads\\projects\\rag with langsmith evaluation\\.venv\\Lib\\site-packages\\huggingface_hub\\file_download.py:1132: FutureWarning: `resume_download` is deprecated and will be removed in version 1.0.0. Downloads always resume when possible. If you want to force a new download, use `force_download=True`.\n",
      "  warnings.warn(\n",
      "c:\\Users\\shyams\\Downloads\\projects\\rag with langsmith evaluation\\.venv\\Lib\\site-packages\\huggingface_hub\\file_download.py:1132: FutureWarning: `resume_download` is deprecated and will be removed in version 1.0.0. Downloads always resume when possible. If you want to force a new download, use `force_download=True`.\n",
      "  warnings.warn(\n"
     ]
    },
    {
     "name": "stdout",
     "output_type": "stream",
     "text": [
      "client=<openai.resources.chat.completions.Completions object at 0x0000026E78077E60> async_client=<openai.resources.chat.completions.AsyncCompletions object at 0x0000026E818C5160> model_name='gpt-3.5-turbo-0125' temperature=0.2 openai_api_key=SecretStr('**********') openai_proxy=''\n",
      "client=<openai.resources.chat.completions.Completions object at 0x0000026E8A29DEE0> async_client=<openai.resources.chat.completions.AsyncCompletions object at 0x0000026E8392D370> model_name='gpt-3.5-turbo-0125' temperature=0.2 openai_api_key=SecretStr('**********') openai_proxy=''\n"
     ]
    },
    {
     "name": "stderr",
     "output_type": "stream",
     "text": [
      "c:\\Users\\shyams\\Downloads\\projects\\rag with langsmith evaluation\\.venv\\Lib\\site-packages\\huggingface_hub\\file_download.py:1132: FutureWarning: `resume_download` is deprecated and will be removed in version 1.0.0. Downloads always resume when possible. If you want to force a new download, use `force_download=True`.\n",
      "  warnings.warn(\n"
     ]
    },
    {
     "name": "stdout",
     "output_type": "stream",
     "text": [
      "client=<openai.resources.chat.completions.Completions object at 0x0000026E81774D10> async_client=<openai.resources.chat.completions.AsyncCompletions object at 0x0000026E81775910> model_name='gpt-3.5-turbo-0125' temperature=0.2 openai_api_key=SecretStr('**********') openai_proxy=''\n"
     ]
    },
    {
     "name": "stderr",
     "output_type": "stream",
     "text": [
      "c:\\Users\\shyams\\Downloads\\projects\\rag with langsmith evaluation\\.venv\\Lib\\site-packages\\huggingface_hub\\file_download.py:1132: FutureWarning: `resume_download` is deprecated and will be removed in version 1.0.0. Downloads always resume when possible. If you want to force a new download, use `force_download=True`.\n",
      "  warnings.warn(\n"
     ]
    },
    {
     "name": "stdout",
     "output_type": "stream",
     "text": [
      "client=<openai.resources.chat.completions.Completions object at 0x0000026E79737860> async_client=<openai.resources.chat.completions.AsyncCompletions object at 0x0000026E95AD9640> model_name='gpt-3.5-turbo-0125' temperature=0.2 openai_api_key=SecretStr('**********') openai_proxy=''\n"
     ]
    },
    {
     "name": "stderr",
     "output_type": "stream",
     "text": [
      "c:\\Users\\shyams\\Downloads\\projects\\rag with langsmith evaluation\\.venv\\Lib\\site-packages\\huggingface_hub\\file_download.py:1132: FutureWarning: `resume_download` is deprecated and will be removed in version 1.0.0. Downloads always resume when possible. If you want to force a new download, use `force_download=True`.\n",
      "  warnings.warn(\n"
     ]
    },
    {
     "name": "stdout",
     "output_type": "stream",
     "text": [
      "client=<openai.resources.chat.completions.Completions object at 0x0000026E88F28E90> async_client=<openai.resources.chat.completions.AsyncCompletions object at 0x0000026E82629CD0> model_name='gpt-3.5-turbo-0125' temperature=0.2 openai_api_key=SecretStr('**********') openai_proxy=''\n",
      "client=<openai.resources.chat.completions.Completions object at 0x0000026E8A3C4920> async_client=<openai.resources.chat.completions.AsyncCompletions object at 0x0000026E859D4AD0> model_name='gpt-3.5-turbo-0125' temperature=0.2 openai_api_key=SecretStr('**********') openai_proxy=''\n"
     ]
    },
    {
     "name": "stderr",
     "output_type": "stream",
     "text": [
      "c:\\Users\\shyams\\Downloads\\projects\\rag with langsmith evaluation\\.venv\\Lib\\site-packages\\huggingface_hub\\file_download.py:1132: FutureWarning: `resume_download` is deprecated and will be removed in version 1.0.0. Downloads always resume when possible. If you want to force a new download, use `force_download=True`.\n",
      "  warnings.warn(\n",
      "c:\\Users\\shyams\\Downloads\\projects\\rag with langsmith evaluation\\.venv\\Lib\\site-packages\\huggingface_hub\\file_download.py:1132: FutureWarning: `resume_download` is deprecated and will be removed in version 1.0.0. Downloads always resume when possible. If you want to force a new download, use `force_download=True`.\n",
      "  warnings.warn(\n"
     ]
    },
    {
     "name": "stdout",
     "output_type": "stream",
     "text": [
      "client=<openai.resources.chat.completions.Completions object at 0x0000026E8C193E00> async_client=<openai.resources.chat.completions.AsyncCompletions object at 0x0000026E8A706900> model_name='gpt-3.5-turbo-0125' temperature=0.2 openai_api_key=SecretStr('**********') openai_proxy=''\n",
      "client=<openai.resources.chat.completions.Completions object at 0x0000026E4EEC9850> async_client=<openai.resources.chat.completions.AsyncCompletions object at 0x0000026E88E803B0> model_name='gpt-3.5-turbo-0125' temperature=0.2 openai_api_key=SecretStr('**********') openai_proxy=''\n"
     ]
    },
    {
     "name": "stderr",
     "output_type": "stream",
     "text": [
      "c:\\Users\\shyams\\Downloads\\projects\\rag with langsmith evaluation\\.venv\\Lib\\site-packages\\huggingface_hub\\file_download.py:1132: FutureWarning: `resume_download` is deprecated and will be removed in version 1.0.0. Downloads always resume when possible. If you want to force a new download, use `force_download=True`.\n",
      "  warnings.warn(\n"
     ]
    },
    {
     "name": "stdout",
     "output_type": "stream",
     "text": [
      "client=<openai.resources.chat.completions.Completions object at 0x0000026E88E818B0> async_client=<openai.resources.chat.completions.AsyncCompletions object at 0x0000026E80DF2780> model_name='gpt-3.5-turbo-0125' temperature=0.2 openai_api_key=SecretStr('**********') openai_proxy=''\n",
      "client=<openai.resources.chat.completions.Completions object at 0x0000026E8214F8C0> async_client=<openai.resources.chat.completions.AsyncCompletions object at 0x0000026E92BCF920> model_name='gpt-3.5-turbo-0125' temperature=0.2 openai_api_key=SecretStr('**********') openai_proxy=''\n",
      "client=<openai.resources.chat.completions.Completions object at 0x0000026E81203CE0> async_client=<openai.resources.chat.completions.AsyncCompletions object at 0x0000026E8054CE60> model_name='gpt-3.5-turbo-0125' temperature=0.2 openai_api_key=SecretStr('**********') openai_proxy=''\n",
      "client=<openai.resources.chat.completions.Completions object at 0x0000026E81202B10> async_client=<openai.resources.chat.completions.AsyncCompletions object at 0x0000026E89BAAE40> model_name='gpt-3.5-turbo-0125' temperature=0.2 openai_api_key=SecretStr('**********') openai_proxy=''\n"
     ]
    },
    {
     "name": "stderr",
     "output_type": "stream",
     "text": [
      "c:\\Users\\shyams\\Downloads\\projects\\rag with langsmith evaluation\\.venv\\Lib\\site-packages\\huggingface_hub\\file_download.py:1132: FutureWarning: `resume_download` is deprecated and will be removed in version 1.0.0. Downloads always resume when possible. If you want to force a new download, use `force_download=True`.\n",
      "  warnings.warn(\n",
      "c:\\Users\\shyams\\Downloads\\projects\\rag with langsmith evaluation\\.venv\\Lib\\site-packages\\huggingface_hub\\file_download.py:1132: FutureWarning: `resume_download` is deprecated and will be removed in version 1.0.0. Downloads always resume when possible. If you want to force a new download, use `force_download=True`.\n",
      "  warnings.warn(\n"
     ]
    },
    {
     "name": "stdout",
     "output_type": "stream",
     "text": [
      "client=<openai.resources.chat.completions.Completions object at 0x0000026E8211DEE0> async_client=<openai.resources.chat.completions.AsyncCompletions object at 0x0000026E808CB860> model_name='gpt-3.5-turbo-0125' temperature=0.2 openai_api_key=SecretStr('**********') openai_proxy=''\n",
      "client=<openai.resources.chat.completions.Completions object at 0x0000026E808C81A0> async_client=<openai.resources.chat.completions.AsyncCompletions object at 0x0000026E80C3C260> model_name='gpt-3.5-turbo-0125' temperature=0.2 openai_api_key=SecretStr('**********') openai_proxy=''\n"
     ]
    },
    {
     "name": "stderr",
     "output_type": "stream",
     "text": [
      "c:\\Users\\shyams\\Downloads\\projects\\rag with langsmith evaluation\\.venv\\Lib\\site-packages\\huggingface_hub\\file_download.py:1132: FutureWarning: `resume_download` is deprecated and will be removed in version 1.0.0. Downloads always resume when possible. If you want to force a new download, use `force_download=True`.\n",
      "  warnings.warn(\n"
     ]
    },
    {
     "name": "stdout",
     "output_type": "stream",
     "text": [
      "client=<openai.resources.chat.completions.Completions object at 0x0000026E79503650> async_client=<openai.resources.chat.completions.AsyncCompletions object at 0x0000026E8065EF60> model_name='gpt-3.5-turbo-0125' temperature=0.2 openai_api_key=SecretStr('**********') openai_proxy=''\n"
     ]
    },
    {
     "name": "stderr",
     "output_type": "stream",
     "text": [
      "c:\\Users\\shyams\\Downloads\\projects\\rag with langsmith evaluation\\.venv\\Lib\\site-packages\\huggingface_hub\\file_download.py:1132: FutureWarning: `resume_download` is deprecated and will be removed in version 1.0.0. Downloads always resume when possible. If you want to force a new download, use `force_download=True`.\n",
      "  warnings.warn(\n"
     ]
    },
    {
     "name": "stdout",
     "output_type": "stream",
     "text": [
      "client=<openai.resources.chat.completions.Completions object at 0x0000026E78091AC0> async_client=<openai.resources.chat.completions.AsyncCompletions object at 0x0000026E8065ECC0> model_name='gpt-3.5-turbo-0125' temperature=0.2 openai_api_key=SecretStr('**********') openai_proxy=''\n"
     ]
    },
    {
     "name": "stderr",
     "output_type": "stream",
     "text": [
      "c:\\Users\\shyams\\Downloads\\projects\\rag with langsmith evaluation\\.venv\\Lib\\site-packages\\huggingface_hub\\file_download.py:1132: FutureWarning: `resume_download` is deprecated and will be removed in version 1.0.0. Downloads always resume when possible. If you want to force a new download, use `force_download=True`.\n",
      "  warnings.warn(\n"
     ]
    },
    {
     "name": "stdout",
     "output_type": "stream",
     "text": [
      "client=<openai.resources.chat.completions.Completions object at 0x0000026E8202DC70> async_client=<openai.resources.chat.completions.AsyncCompletions object at 0x0000026E85CF7B90> model_name='gpt-3.5-turbo-0125' temperature=0.2 openai_api_key=SecretStr('**********') openai_proxy=''\n",
      "client=<openai.resources.chat.completions.Completions object at 0x0000026E82629940> async_client=<openai.resources.chat.completions.AsyncCompletions object at 0x0000026E8202C950> model_name='gpt-3.5-turbo-0125' temperature=0.2 openai_api_key=SecretStr('**********') openai_proxy=''\n"
     ]
    },
    {
     "name": "stderr",
     "output_type": "stream",
     "text": [
      "c:\\Users\\shyams\\Downloads\\projects\\rag with langsmith evaluation\\.venv\\Lib\\site-packages\\huggingface_hub\\file_download.py:1132: FutureWarning: `resume_download` is deprecated and will be removed in version 1.0.0. Downloads always resume when possible. If you want to force a new download, use `force_download=True`.\n",
      "  warnings.warn(\n",
      "c:\\Users\\shyams\\Downloads\\projects\\rag with langsmith evaluation\\.venv\\Lib\\site-packages\\huggingface_hub\\file_download.py:1132: FutureWarning: `resume_download` is deprecated and will be removed in version 1.0.0. Downloads always resume when possible. If you want to force a new download, use `force_download=True`.\n",
      "  warnings.warn(\n"
     ]
    },
    {
     "name": "stdout",
     "output_type": "stream",
     "text": [
      "client=<openai.resources.chat.completions.Completions object at 0x0000026E806768D0> async_client=<openai.resources.chat.completions.AsyncCompletions object at 0x0000026E92AEE3C0> model_name='gpt-3.5-turbo-0125' temperature=0.2 openai_api_key=SecretStr('**********') openai_proxy=''\n",
      "client=<openai.resources.chat.completions.Completions object at 0x0000026E822004A0> async_client=<openai.resources.chat.completions.AsyncCompletions object at 0x0000026E919F3260> model_name='gpt-3.5-turbo-0125' temperature=0.2 openai_api_key=SecretStr('**********') openai_proxy=''\n"
     ]
    },
    {
     "name": "stderr",
     "output_type": "stream",
     "text": [
      "c:\\Users\\shyams\\Downloads\\projects\\rag with langsmith evaluation\\.venv\\Lib\\site-packages\\huggingface_hub\\file_download.py:1132: FutureWarning: `resume_download` is deprecated and will be removed in version 1.0.0. Downloads always resume when possible. If you want to force a new download, use `force_download=True`.\n",
      "  warnings.warn(\n"
     ]
    },
    {
     "name": "stdout",
     "output_type": "stream",
     "text": [
      "client=<openai.resources.chat.completions.Completions object at 0x0000026E81B72420> async_client=<openai.resources.chat.completions.AsyncCompletions object at 0x0000026E81FBCDA0> model_name='gpt-3.5-turbo-0125' temperature=0.2 openai_api_key=SecretStr('**********') openai_proxy=''\n",
      "client=<openai.resources.chat.completions.Completions object at 0x0000026E80DA75C0> async_client=<openai.resources.chat.completions.AsyncCompletions object at 0x0000026E80E39AC0> model_name='gpt-3.5-turbo-0125' temperature=0.2 openai_api_key=SecretStr('**********') openai_proxy=''\n",
      "client=<openai.resources.chat.completions.Completions object at 0x0000026E8A4465D0> async_client=<openai.resources.chat.completions.AsyncCompletions object at 0x0000026E82142F60> model_name='gpt-3.5-turbo-0125' temperature=0.2 openai_api_key=SecretStr('**********') openai_proxy=''\n",
      "client=<openai.resources.chat.completions.Completions object at 0x0000026E82141CD0> async_client=<openai.resources.chat.completions.AsyncCompletions object at 0x0000026E8393DEB0> model_name='gpt-3.5-turbo-0125' temperature=0.2 openai_api_key=SecretStr('**********') openai_proxy=''\n"
     ]
    },
    {
     "name": "stderr",
     "output_type": "stream",
     "text": [
      "c:\\Users\\shyams\\Downloads\\projects\\rag with langsmith evaluation\\.venv\\Lib\\site-packages\\huggingface_hub\\file_download.py:1132: FutureWarning: `resume_download` is deprecated and will be removed in version 1.0.0. Downloads always resume when possible. If you want to force a new download, use `force_download=True`.\n",
      "  warnings.warn(\n",
      "48it [08:50, 11.06s/it]\n"
     ]
    },
    {
     "name": "stdout",
     "output_type": "stream",
     "text": [
      "View the evaluation results for experiment: 'gpt-4 rag eval-befe4e4d' at:\n",
      "https://smith.langchain.com/o/b47753b3-6d84-5fa3-b240-64adbbe1c7be/datasets/88a61045-2ca2-47c7-a3b1-91149cab59c1/compare?selectedSessions=25f15f5f-c385-4e21-9120-5e5b1fb797de\n",
      "\n",
      "\n"
     ]
    },
    {
     "name": "stderr",
     "output_type": "stream",
     "text": [
      "0it [00:00, ?it/s]"
     ]
    },
    {
     "name": "stdout",
     "output_type": "stream",
     "text": [
      "client=<openai.resources.chat.completions.Completions object at 0x0000026E8115C740> async_client=<openai.resources.chat.completions.AsyncCompletions object at 0x0000026E8071F7A0> model_name='gpt-4' temperature=0.2 openai_api_key=SecretStr('**********') openai_proxy=''\n",
      "client=<openai.resources.chat.completions.Completions object at 0x0000026E81E07350> async_client=<openai.resources.chat.completions.AsyncCompletions object at 0x0000026E95ADFDA0> model_name='gpt-4' temperature=0.2 openai_api_key=SecretStr('**********') openai_proxy=''\n",
      "client=<openai.resources.chat.completions.Completions object at 0x0000026EAB5D6D20> async_client=<openai.resources.chat.completions.AsyncCompletions object at 0x0000026E7F5FDBE0> model_name='gpt-4' temperature=0.2 openai_api_key=SecretStr('**********') openai_proxy=''\n",
      "client=<openai.resources.chat.completions.Completions object at 0x0000026E85A35A00> async_client=<openai.resources.chat.completions.AsyncCompletions object at 0x0000026E79636E10> model_name='gpt-4' temperature=0.2 openai_api_key=SecretStr('**********') openai_proxy=''\n",
      "client=<openai.resources.chat.completions.Completions object at 0x0000026E7F5BBDA0> async_client=<openai.resources.chat.completions.AsyncCompletions object at 0x0000026E81FF5460> model_name='gpt-4' temperature=0.2 openai_api_key=SecretStr('**********') openai_proxy=''\n",
      "client=<openai.resources.chat.completions.Completions object at 0x0000026E8A697920> async_client=<openai.resources.chat.completions.AsyncCompletions object at 0x0000026E89AF7AA0> model_name='gpt-4' temperature=0.2 openai_api_key=SecretStr('**********') openai_proxy=''\n",
      "client=<openai.resources.chat.completions.Completions object at 0x0000026E4E659A60> async_client=<openai.resources.chat.completions.AsyncCompletions object at 0x0000026E817295B0> model_name='gpt-4' temperature=0.2 openai_api_key=SecretStr('**********') openai_proxy=''client=<openai.resources.chat.completions.Completions object at 0x0000026E795299D0> async_client=<openai.resources.chat.completions.AsyncCompletions object at 0x0000026E835B6A50> model_name='gpt-4' temperature=0.2 openai_api_key=SecretStr('**********') openai_proxy=''\n",
      "\n",
      "client=<openai.resources.chat.completions.Completions object at 0x0000026E8C0A8350> async_client=<openai.resources.chat.completions.AsyncCompletions object at 0x0000026E919F3170> model_name='gpt-4' temperature=0.2 openai_api_key=SecretStr('**********') openai_proxy=''\n",
      "client=<openai.resources.chat.completions.Completions object at 0x0000026E8A435910> async_client=<openai.resources.chat.completions.AsyncCompletions object at 0x0000026E797E8890> model_name='gpt-4' temperature=0.2 openai_api_key=SecretStr('**********') openai_proxy=''\n",
      "client=<openai.resources.chat.completions.Completions object at 0x0000026E80677800> async_client=<openai.resources.chat.completions.AsyncCompletions object at 0x0000026E821404A0> model_name='gpt-4' temperature=0.2 openai_api_key=SecretStr('**********') openai_proxy=''\n",
      "client=<openai.resources.chat.completions.Completions object at 0x0000026E8120E720> async_client=<openai.resources.chat.completions.AsyncCompletions object at 0x0000026E809C95B0> model_name='gpt-4' temperature=0.2 openai_api_key=SecretStr('**********') openai_proxy=''\n"
     ]
    },
    {
     "name": "stderr",
     "output_type": "stream",
     "text": [
      "c:\\Users\\shyams\\Downloads\\projects\\rag with langsmith evaluation\\.venv\\Lib\\site-packages\\huggingface_hub\\file_download.py:1132: FutureWarning: `resume_download` is deprecated and will be removed in version 1.0.0. Downloads always resume when possible. If you want to force a new download, use `force_download=True`.\n",
      "  warnings.warn(\n",
      "c:\\Users\\shyams\\Downloads\\projects\\rag with langsmith evaluation\\.venv\\Lib\\site-packages\\huggingface_hub\\file_download.py:1132: FutureWarning: `resume_download` is deprecated and will be removed in version 1.0.0. Downloads always resume when possible. If you want to force a new download, use `force_download=True`.\n",
      "  warnings.warn(\n",
      "c:\\Users\\shyams\\Downloads\\projects\\rag with langsmith evaluation\\.venv\\Lib\\site-packages\\huggingface_hub\\file_download.py:1132: FutureWarning: `resume_download` is deprecated and will be removed in version 1.0.0. Downloads always resume when possible. If you want to force a new download, use `force_download=True`.\n",
      "  warnings.warn(\n",
      "c:\\Users\\shyams\\Downloads\\projects\\rag with langsmith evaluation\\.venv\\Lib\\site-packages\\huggingface_hub\\file_download.py:1132: FutureWarning: `resume_download` is deprecated and will be removed in version 1.0.0. Downloads always resume when possible. If you want to force a new download, use `force_download=True`.\n",
      "  warnings.warn(\n",
      "c:\\Users\\shyams\\Downloads\\projects\\rag with langsmith evaluation\\.venv\\Lib\\site-packages\\huggingface_hub\\file_download.py:1132: FutureWarning: `resume_download` is deprecated and will be removed in version 1.0.0. Downloads always resume when possible. If you want to force a new download, use `force_download=True`.\n",
      "  warnings.warn(\n",
      "c:\\Users\\shyams\\Downloads\\projects\\rag with langsmith evaluation\\.venv\\Lib\\site-packages\\huggingface_hub\\file_download.py:1132: FutureWarning: `resume_download` is deprecated and will be removed in version 1.0.0. Downloads always resume when possible. If you want to force a new download, use `force_download=True`.\n",
      "  warnings.warn(\n"
     ]
    },
    {
     "name": "stdout",
     "output_type": "stream",
     "text": [
      "client=<openai.resources.chat.completions.Completions object at 0x0000026E8216DEE0> async_client=<openai.resources.chat.completions.AsyncCompletions object at 0x0000026E80C8D160> model_name='gpt-4' temperature=0.2 openai_api_key=SecretStr('**********') openai_proxy=''\n"
     ]
    },
    {
     "name": "stderr",
     "output_type": "stream",
     "text": [
      "c:\\Users\\shyams\\Downloads\\projects\\rag with langsmith evaluation\\.venv\\Lib\\site-packages\\huggingface_hub\\file_download.py:1132: FutureWarning: `resume_download` is deprecated and will be removed in version 1.0.0. Downloads always resume when possible. If you want to force a new download, use `force_download=True`.\n",
      "  warnings.warn(\n"
     ]
    },
    {
     "name": "stdout",
     "output_type": "stream",
     "text": [
      "client=<openai.resources.chat.completions.Completions object at 0x0000026E4EEC9F10> async_client=<openai.resources.chat.completions.AsyncCompletions object at 0x0000026E966E7800> model_name='gpt-4' temperature=0.2 openai_api_key=SecretStr('**********') openai_proxy=''\n",
      "client=<openai.resources.chat.completions.Completions object at 0x0000026E7AAA6810> async_client=<openai.resources.chat.completions.AsyncCompletions object at 0x0000026E92A1FEF0> model_name='gpt-4' temperature=0.2 openai_api_key=SecretStr('**********') openai_proxy=''\n",
      "client=<openai.resources.chat.completions.Completions object at 0x0000026E7AAA7E60> async_client=<openai.resources.chat.completions.AsyncCompletions object at 0x0000026E89BCFBF0> model_name='gpt-4' temperature=0.2 openai_api_key=SecretStr('**********') openai_proxy=''\n",
      "client=<openai.resources.chat.completions.Completions object at 0x0000026E8AA733E0> async_client=<openai.resources.chat.completions.AsyncCompletions object at 0x0000026E935668D0> model_name='gpt-4' temperature=0.2 openai_api_key=SecretStr('**********') openai_proxy=''\n",
      "client=<openai.resources.chat.completions.Completions object at 0x0000026E8C17DEE0> async_client=<openai.resources.chat.completions.AsyncCompletions object at 0x0000026E808FDF40> model_name='gpt-4' temperature=0.2 openai_api_key=SecretStr('**********') openai_proxy=''\n"
     ]
    },
    {
     "name": "stderr",
     "output_type": "stream",
     "text": [
      "c:\\Users\\shyams\\Downloads\\projects\\rag with langsmith evaluation\\.venv\\Lib\\site-packages\\huggingface_hub\\file_download.py:1132: FutureWarning: `resume_download` is deprecated and will be removed in version 1.0.0. Downloads always resume when possible. If you want to force a new download, use `force_download=True`.\n",
      "  warnings.warn(\n",
      "c:\\Users\\shyams\\Downloads\\projects\\rag with langsmith evaluation\\.venv\\Lib\\site-packages\\huggingface_hub\\file_download.py:1132: FutureWarning: `resume_download` is deprecated and will be removed in version 1.0.0. Downloads always resume when possible. If you want to force a new download, use `force_download=True`.\n",
      "  warnings.warn(\n",
      "c:\\Users\\shyams\\Downloads\\projects\\rag with langsmith evaluation\\.venv\\Lib\\site-packages\\huggingface_hub\\file_download.py:1132: FutureWarning: `resume_download` is deprecated and will be removed in version 1.0.0. Downloads always resume when possible. If you want to force a new download, use `force_download=True`.\n",
      "  warnings.warn(\n",
      "c:\\Users\\shyams\\Downloads\\projects\\rag with langsmith evaluation\\.venv\\Lib\\site-packages\\huggingface_hub\\file_download.py:1132: FutureWarning: `resume_download` is deprecated and will be removed in version 1.0.0. Downloads always resume when possible. If you want to force a new download, use `force_download=True`.\n",
      "  warnings.warn(\n"
     ]
    },
    {
     "name": "stdout",
     "output_type": "stream",
     "text": [
      "client=<openai.resources.chat.completions.Completions object at 0x0000026E806741A0> async_client=<openai.resources.chat.completions.AsyncCompletions object at 0x0000026E80BE4800> model_name='gpt-4' temperature=0.2 openai_api_key=SecretStr('**********') openai_proxy=''\n",
      "client=<openai.resources.chat.completions.Completions object at 0x0000026E8A3EF6B0> async_client=<openai.resources.chat.completions.AsyncCompletions object at 0x0000026E93DBE060> model_name='gpt-4' temperature=0.2 openai_api_key=SecretStr('**********') openai_proxy=''\n",
      "client=<openai.resources.chat.completions.Completions object at 0x0000026E8A78B680> async_client=<openai.resources.chat.completions.AsyncCompletions object at 0x0000026E96081D90> model_name='gpt-4' temperature=0.2 openai_api_key=SecretStr('**********') openai_proxy=''\n",
      "client=<openai.resources.chat.completions.Completions object at 0x0000026E818A7950> async_client=<openai.resources.chat.completions.AsyncCompletions object at 0x0000026E85CC6210> model_name='gpt-4' temperature=0.2 openai_api_key=SecretStr('**********') openai_proxy=''\n",
      "client=<openai.resources.chat.completions.Completions object at 0x0000026E89BE5250> async_client=<openai.resources.chat.completions.AsyncCompletions object at 0x0000026E919C04D0> model_name='gpt-4' temperature=0.2 openai_api_key=SecretStr('**********') openai_proxy=''\n",
      "client=<openai.resources.chat.completions.Completions object at 0x0000026E82249F70> async_client=<openai.resources.chat.completions.AsyncCompletions object at 0x0000026E7AAFC890> model_name='gpt-4' temperature=0.2 openai_api_key=SecretStr('**********') openai_proxy=''\n"
     ]
    },
    {
     "name": "stderr",
     "output_type": "stream",
     "text": [
      "c:\\Users\\shyams\\Downloads\\projects\\rag with langsmith evaluation\\.venv\\Lib\\site-packages\\huggingface_hub\\file_download.py:1132: FutureWarning: `resume_download` is deprecated and will be removed in version 1.0.0. Downloads always resume when possible. If you want to force a new download, use `force_download=True`.\n",
      "  warnings.warn(\n",
      "c:\\Users\\shyams\\Downloads\\projects\\rag with langsmith evaluation\\.venv\\Lib\\site-packages\\huggingface_hub\\file_download.py:1132: FutureWarning: `resume_download` is deprecated and will be removed in version 1.0.0. Downloads always resume when possible. If you want to force a new download, use `force_download=True`.\n",
      "  warnings.warn(\n",
      "c:\\Users\\shyams\\Downloads\\projects\\rag with langsmith evaluation\\.venv\\Lib\\site-packages\\huggingface_hub\\file_download.py:1132: FutureWarning: `resume_download` is deprecated and will be removed in version 1.0.0. Downloads always resume when possible. If you want to force a new download, use `force_download=True`.\n",
      "  warnings.warn(\n",
      "c:\\Users\\shyams\\Downloads\\projects\\rag with langsmith evaluation\\.venv\\Lib\\site-packages\\huggingface_hub\\file_download.py:1132: FutureWarning: `resume_download` is deprecated and will be removed in version 1.0.0. Downloads always resume when possible. If you want to force a new download, use `force_download=True`.\n",
      "  warnings.warn(\n",
      "c:\\Users\\shyams\\Downloads\\projects\\rag with langsmith evaluation\\.venv\\Lib\\site-packages\\huggingface_hub\\file_download.py:1132: FutureWarning: `resume_download` is deprecated and will be removed in version 1.0.0. Downloads always resume when possible. If you want to force a new download, use `force_download=True`.\n",
      "  warnings.warn(\n"
     ]
    },
    {
     "name": "stdout",
     "output_type": "stream",
     "text": [
      "client=<openai.resources.chat.completions.Completions object at 0x0000026E796137A0> async_client=<openai.resources.chat.completions.AsyncCompletions object at 0x0000026E93C12CC0> model_name='gpt-4' temperature=0.2 openai_api_key=SecretStr('**********') openai_proxy=''\n"
     ]
    },
    {
     "name": "stderr",
     "output_type": "stream",
     "text": [
      "c:\\Users\\shyams\\Downloads\\projects\\rag with langsmith evaluation\\.venv\\Lib\\site-packages\\huggingface_hub\\file_download.py:1132: FutureWarning: `resume_download` is deprecated and will be removed in version 1.0.0. Downloads always resume when possible. If you want to force a new download, use `force_download=True`.\n",
      "  warnings.warn(\n"
     ]
    },
    {
     "name": "stdout",
     "output_type": "stream",
     "text": [
      "client=<openai.resources.chat.completions.Completions object at 0x0000026E8C032120> async_client=<openai.resources.chat.completions.AsyncCompletions object at 0x0000026E859C8830> model_name='gpt-4' temperature=0.2 openai_api_key=SecretStr('**********') openai_proxy=''\n",
      "client=<openai.resources.chat.completions.Completions object at 0x0000026E8172DEE0> async_client=<openai.resources.chat.completions.AsyncCompletions object at 0x0000026E95CDAB10> model_name='gpt-4' temperature=0.2 openai_api_key=SecretStr('**********') openai_proxy=''\n",
      "client=<openai.resources.chat.completions.Completions object at 0x0000026E8542A270> async_client=<openai.resources.chat.completions.AsyncCompletions object at 0x0000026E811819A0> model_name='gpt-4' temperature=0.2 openai_api_key=SecretStr('**********') openai_proxy=''\n"
     ]
    },
    {
     "name": "stderr",
     "output_type": "stream",
     "text": [
      "c:\\Users\\shyams\\Downloads\\projects\\rag with langsmith evaluation\\.venv\\Lib\\site-packages\\huggingface_hub\\file_download.py:1132: FutureWarning: `resume_download` is deprecated and will be removed in version 1.0.0. Downloads always resume when possible. If you want to force a new download, use `force_download=True`.\n",
      "  warnings.warn(\n"
     ]
    },
    {
     "name": "stdout",
     "output_type": "stream",
     "text": [
      "client=<openai.resources.chat.completions.Completions object at 0x0000026E81DA70E0> async_client=<openai.resources.chat.completions.AsyncCompletions object at 0x0000026E8A3C5040> model_name='gpt-4' temperature=0.2 openai_api_key=SecretStr('**********') openai_proxy=''\n",
      "client=<openai.resources.chat.completions.Completions object at 0x0000026E818A5730> async_client=<openai.resources.chat.completions.AsyncCompletions object at 0x0000026E81790350> model_name='gpt-4' temperature=0.2 openai_api_key=SecretStr('**********') openai_proxy=''\n"
     ]
    },
    {
     "name": "stderr",
     "output_type": "stream",
     "text": [
      "c:\\Users\\shyams\\Downloads\\projects\\rag with langsmith evaluation\\.venv\\Lib\\site-packages\\huggingface_hub\\file_download.py:1132: FutureWarning: `resume_download` is deprecated and will be removed in version 1.0.0. Downloads always resume when possible. If you want to force a new download, use `force_download=True`.\n",
      "  warnings.warn(\n",
      "c:\\Users\\shyams\\Downloads\\projects\\rag with langsmith evaluation\\.venv\\Lib\\site-packages\\huggingface_hub\\file_download.py:1132: FutureWarning: `resume_download` is deprecated and will be removed in version 1.0.0. Downloads always resume when possible. If you want to force a new download, use `force_download=True`.\n",
      "  warnings.warn(\n"
     ]
    },
    {
     "name": "stdout",
     "output_type": "stream",
     "text": [
      "client=<openai.resources.chat.completions.Completions object at 0x0000026E80767E60> async_client=<openai.resources.chat.completions.AsyncCompletions object at 0x0000026E8C056E10> model_name='gpt-4' temperature=0.2 openai_api_key=SecretStr('**********') openai_proxy=''\n",
      "client=<openai.resources.chat.completions.Completions object at 0x0000026E8C054770> async_client=<openai.resources.chat.completions.AsyncCompletions object at 0x0000026E92A807D0> model_name='gpt-4' temperature=0.2 openai_api_key=SecretStr('**********') openai_proxy=''\n",
      "client=<openai.resources.chat.completions.Completions object at 0x0000026E856D0C20> async_client=<openai.resources.chat.completions.AsyncCompletions object at 0x0000026E80724080> model_name='gpt-4' temperature=0.2 openai_api_key=SecretStr('**********') openai_proxy=''\n",
      "client=<openai.resources.chat.completions.Completions object at 0x0000026E80641FA0> async_client=<openai.resources.chat.completions.AsyncCompletions object at 0x0000026E8A447DA0> model_name='gpt-4' temperature=0.2 openai_api_key=SecretStr('**********') openai_proxy=''\n",
      "client=<openai.resources.chat.completions.Completions object at 0x0000026E966F8F50> async_client=<openai.resources.chat.completions.AsyncCompletions object at 0x0000026E93BBAC60> model_name='gpt-4' temperature=0.2 openai_api_key=SecretStr('**********') openai_proxy=''\n",
      "client=<openai.resources.chat.completions.Completions object at 0x0000026E7AADEE40> async_client=<openai.resources.chat.completions.AsyncCompletions object at 0x0000026E8207FFB0> model_name='gpt-4' temperature=0.2 openai_api_key=SecretStr('**********') openai_proxy=''\n"
     ]
    },
    {
     "name": "stderr",
     "output_type": "stream",
     "text": [
      "c:\\Users\\shyams\\Downloads\\projects\\rag with langsmith evaluation\\.venv\\Lib\\site-packages\\huggingface_hub\\file_download.py:1132: FutureWarning: `resume_download` is deprecated and will be removed in version 1.0.0. Downloads always resume when possible. If you want to force a new download, use `force_download=True`.\n",
      "  warnings.warn(\n",
      "c:\\Users\\shyams\\Downloads\\projects\\rag with langsmith evaluation\\.venv\\Lib\\site-packages\\huggingface_hub\\file_download.py:1132: FutureWarning: `resume_download` is deprecated and will be removed in version 1.0.0. Downloads always resume when possible. If you want to force a new download, use `force_download=True`.\n",
      "  warnings.warn(\n",
      "c:\\Users\\shyams\\Downloads\\projects\\rag with langsmith evaluation\\.venv\\Lib\\site-packages\\huggingface_hub\\file_download.py:1132: FutureWarning: `resume_download` is deprecated and will be removed in version 1.0.0. Downloads always resume when possible. If you want to force a new download, use `force_download=True`.\n",
      "  warnings.warn(\n"
     ]
    },
    {
     "name": "stdout",
     "output_type": "stream",
     "text": [
      "client=<openai.resources.chat.completions.Completions object at 0x0000026E93DD2180> async_client=<openai.resources.chat.completions.AsyncCompletions object at 0x0000026E93528440> model_name='gpt-4' temperature=0.2 openai_api_key=SecretStr('**********') openai_proxy=''\n"
     ]
    },
    {
     "name": "stderr",
     "output_type": "stream",
     "text": [
      "c:\\Users\\shyams\\Downloads\\projects\\rag with langsmith evaluation\\.venv\\Lib\\site-packages\\huggingface_hub\\file_download.py:1132: FutureWarning: `resume_download` is deprecated and will be removed in version 1.0.0. Downloads always resume when possible. If you want to force a new download, use `force_download=True`.\n",
      "  warnings.warn(\n"
     ]
    },
    {
     "name": "stdout",
     "output_type": "stream",
     "text": [
      "client=<openai.resources.chat.completions.Completions object at 0x0000026E81202AE0> async_client=<openai.resources.chat.completions.AsyncCompletions object at 0x0000026E820DC3E0> model_name='gpt-4' temperature=0.2 openai_api_key=SecretStr('**********') openai_proxy=''\n"
     ]
    },
    {
     "name": "stderr",
     "output_type": "stream",
     "text": [
      "c:\\Users\\shyams\\Downloads\\projects\\rag with langsmith evaluation\\.venv\\Lib\\site-packages\\huggingface_hub\\file_download.py:1132: FutureWarning: `resume_download` is deprecated and will be removed in version 1.0.0. Downloads always resume when possible. If you want to force a new download, use `force_download=True`.\n",
      "  warnings.warn(\n"
     ]
    },
    {
     "name": "stdout",
     "output_type": "stream",
     "text": [
      "client=<openai.resources.chat.completions.Completions object at 0x0000026E85683320> async_client=<openai.resources.chat.completions.AsyncCompletions object at 0x0000026E857291C0> model_name='gpt-4' temperature=0.2 openai_api_key=SecretStr('**********') openai_proxy=''\n",
      "client=<openai.resources.chat.completions.Completions object at 0x0000026E838FF9B0> async_client=<openai.resources.chat.completions.AsyncCompletions object at 0x0000026E85B56150> model_name='gpt-4' temperature=0.2 openai_api_key=SecretStr('**********') openai_proxy=''\n",
      "client=<openai.resources.chat.completions.Completions object at 0x0000026E81FD8590> async_client=<openai.resources.chat.completions.AsyncCompletions object at 0x0000026E88E9E000> model_name='gpt-4' temperature=0.2 openai_api_key=SecretStr('**********') openai_proxy=''\n"
     ]
    },
    {
     "name": "stderr",
     "output_type": "stream",
     "text": [
      "c:\\Users\\shyams\\Downloads\\projects\\rag with langsmith evaluation\\.venv\\Lib\\site-packages\\huggingface_hub\\file_download.py:1132: FutureWarning: `resume_download` is deprecated and will be removed in version 1.0.0. Downloads always resume when possible. If you want to force a new download, use `force_download=True`.\n",
      "  warnings.warn(\n"
     ]
    },
    {
     "name": "stdout",
     "output_type": "stream",
     "text": [
      "client=<openai.resources.chat.completions.Completions object at 0x0000026E835656D0> async_client=<openai.resources.chat.completions.AsyncCompletions object at 0x0000026E820AB4A0> model_name='gpt-4' temperature=0.2 openai_api_key=SecretStr('**********') openai_proxy=''\n"
     ]
    },
    {
     "name": "stderr",
     "output_type": "stream",
     "text": [
      "c:\\Users\\shyams\\Downloads\\projects\\rag with langsmith evaluation\\.venv\\Lib\\site-packages\\huggingface_hub\\file_download.py:1132: FutureWarning: `resume_download` is deprecated and will be removed in version 1.0.0. Downloads always resume when possible. If you want to force a new download, use `force_download=True`.\n",
      "  warnings.warn(\n",
      "c:\\Users\\shyams\\Downloads\\projects\\rag with langsmith evaluation\\.venv\\Lib\\site-packages\\huggingface_hub\\file_download.py:1132: FutureWarning: `resume_download` is deprecated and will be removed in version 1.0.0. Downloads always resume when possible. If you want to force a new download, use `force_download=True`.\n",
      "  warnings.warn(\n"
     ]
    },
    {
     "name": "stdout",
     "output_type": "stream",
     "text": [
      "client=<openai.resources.chat.completions.Completions object at 0x0000026E8572BE60> async_client=<openai.resources.chat.completions.AsyncCompletions object at 0x0000026E81B894F0> model_name='gpt-4' temperature=0.2 openai_api_key=SecretStr('**********') openai_proxy=''\n",
      "client=<openai.resources.chat.completions.Completions object at 0x0000026E9355B830> async_client=<openai.resources.chat.completions.AsyncCompletions object at 0x0000026E919CA1E0> model_name='gpt-4' temperature=0.2 openai_api_key=SecretStr('**********') openai_proxy=''\n"
     ]
    },
    {
     "name": "stderr",
     "output_type": "stream",
     "text": [
      "c:\\Users\\shyams\\Downloads\\projects\\rag with langsmith evaluation\\.venv\\Lib\\site-packages\\huggingface_hub\\file_download.py:1132: FutureWarning: `resume_download` is deprecated and will be removed in version 1.0.0. Downloads always resume when possible. If you want to force a new download, use `force_download=True`.\n",
      "  warnings.warn(\n"
     ]
    },
    {
     "name": "stdout",
     "output_type": "stream",
     "text": [
      "client=<openai.resources.chat.completions.Completions object at 0x0000026E81B8B320> async_client=<openai.resources.chat.completions.AsyncCompletions object at 0x0000026E81B886B0> model_name='gpt-4' temperature=0.2 openai_api_key=SecretStr('**********') openai_proxy=''\n",
      "client=<openai.resources.chat.completions.Completions object at 0x0000026E919CBDA0> async_client=<openai.resources.chat.completions.AsyncCompletions object at 0x0000026E93B6B5C0> model_name='gpt-4' temperature=0.2 openai_api_key=SecretStr('**********') openai_proxy=''\n"
     ]
    },
    {
     "name": "stderr",
     "output_type": "stream",
     "text": [
      "c:\\Users\\shyams\\Downloads\\projects\\rag with langsmith evaluation\\.venv\\Lib\\site-packages\\huggingface_hub\\file_download.py:1132: FutureWarning: `resume_download` is deprecated and will be removed in version 1.0.0. Downloads always resume when possible. If you want to force a new download, use `force_download=True`.\n",
      "  warnings.warn(\n"
     ]
    },
    {
     "name": "stdout",
     "output_type": "stream",
     "text": [
      "client=<openai.resources.chat.completions.Completions object at 0x0000026E8569D1F0> async_client=<openai.resources.chat.completions.AsyncCompletions object at 0x0000026E78116A50> model_name='gpt-4' temperature=0.2 openai_api_key=SecretStr('**********') openai_proxy=''\n",
      "client=<openai.resources.chat.completions.Completions object at 0x0000026E93B6A000> async_client=<openai.resources.chat.completions.AsyncCompletions object at 0x0000026E935062D0> model_name='gpt-4' temperature=0.2 openai_api_key=SecretStr('**********') openai_proxy=''\n"
     ]
    },
    {
     "name": "stderr",
     "output_type": "stream",
     "text": [
      "c:\\Users\\shyams\\Downloads\\projects\\rag with langsmith evaluation\\.venv\\Lib\\site-packages\\huggingface_hub\\file_download.py:1132: FutureWarning: `resume_download` is deprecated and will be removed in version 1.0.0. Downloads always resume when possible. If you want to force a new download, use `force_download=True`.\n",
      "  warnings.warn(\n",
      "c:\\Users\\shyams\\Downloads\\projects\\rag with langsmith evaluation\\.venv\\Lib\\site-packages\\huggingface_hub\\file_download.py:1132: FutureWarning: `resume_download` is deprecated and will be removed in version 1.0.0. Downloads always resume when possible. If you want to force a new download, use `force_download=True`.\n",
      "  warnings.warn(\n",
      "c:\\Users\\shyams\\Downloads\\projects\\rag with langsmith evaluation\\.venv\\Lib\\site-packages\\huggingface_hub\\file_download.py:1132: FutureWarning: `resume_download` is deprecated and will be removed in version 1.0.0. Downloads always resume when possible. If you want to force a new download, use `force_download=True`.\n",
      "  warnings.warn(\n",
      "c:\\Users\\shyams\\Downloads\\projects\\rag with langsmith evaluation\\.venv\\Lib\\site-packages\\huggingface_hub\\file_download.py:1132: FutureWarning: `resume_download` is deprecated and will be removed in version 1.0.0. Downloads always resume when possible. If you want to force a new download, use `force_download=True`.\n",
      "  warnings.warn(\n",
      "48it [08:52, 11.09s/it]\n"
     ]
    }
   ],
   "source": [
    "from langsmith.evaluation import  evaluate\n",
    "for model in list_of_models:\n",
    "    xperiment_results = evaluate(\n",
    "    lambda inputs: Custom_Rag(model=model).main(inputs[\"prompt\"]),\n",
    "    data=dataset_name,\n",
    "    evaluators=[answer_evaluator, answer_helpfulness_evaluator, answer_hallucination_evaluator, docs_relevance_evaluator],\n",
    "    experiment_prefix=f\"{model} rag eval\",\n",
    "    # Any experiment metadata can be specified here\n",
    "    metadata={\n",
    "        \"variant\": \"LCEL context, gpt-4-turbo\",\n",
    "    },\n",
    "    num_repetitions=3\n",
    ")"
   ]
  },
  {
   "cell_type": "markdown",
   "metadata": {},
   "source": [
    "## langsmith evaluation report\n",
    "\n",
    "\n",
    "https://smith.langchain.com/public/5c59d4a8-4159-481d-9dc3-e55be829246c/d"
   ]
  },
  {
   "cell_type": "code",
   "execution_count": null,
   "metadata": {},
   "outputs": [],
   "source": []
  },
  {
   "cell_type": "code",
   "execution_count": null,
   "metadata": {},
   "outputs": [],
   "source": []
  }
 ],
 "metadata": {
  "kernelspec": {
   "display_name": ".venv",
   "language": "python",
   "name": "python3"
  },
  "language_info": {
   "codemirror_mode": {
    "name": "ipython",
    "version": 3
   },
   "file_extension": ".py",
   "mimetype": "text/x-python",
   "name": "python",
   "nbconvert_exporter": "python",
   "pygments_lexer": "ipython3",
   "version": "3.12.3"
  }
 },
 "nbformat": 4,
 "nbformat_minor": 2
}
